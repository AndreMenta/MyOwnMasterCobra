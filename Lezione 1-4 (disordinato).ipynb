{
 "cells": [
  {
   "cell_type": "markdown",
   "id": "c9c4c8a4",
   "metadata": {},
   "source": [
    "# Lezione 1 e 2 di Python"
   ]
  },
  {
   "cell_type": "markdown",
   "id": "eb3eeaf1",
   "metadata": {},
   "source": [
    "## costruire un generatore di parole casuali\n",
    "\n",
    "Vogliamo costruire un generatore di parole che partendo da un insieme di lettere estragga casualmente delle lettere e formi delle parole.\n",
    "\n",
    "Estrai N lettere da A e memorizza lettere da W.\n"
   ]
  },
  {
   "cell_type": "code",
   "execution_count": 1,
   "id": "401b3310",
   "metadata": {},
   "outputs": [],
   "source": [
    "from string import ascii_lowercase"
   ]
  },
  {
   "cell_type": "markdown",
   "id": "44570c46",
   "metadata": {},
   "source": [
    "Scrivere una libreria python con pycharm"
   ]
  },
  {
   "cell_type": "code",
   "execution_count": 1,
   "id": "6523fa5d",
   "metadata": {},
   "outputs": [],
   "source": [
    "import sys"
   ]
  },
  {
   "cell_type": "code",
   "execution_count": 2,
   "id": "36c73e62",
   "metadata": {},
   "outputs": [
    {
     "data": {
      "text/plain": [
       "['C:\\\\Users\\\\andre\\\\1) LEZIONI PROGRAMMAZIONE',\n",
       " 'C:\\\\Users\\\\andre\\\\anaconda3\\\\python39.zip',\n",
       " 'C:\\\\Users\\\\andre\\\\anaconda3\\\\DLLs',\n",
       " 'C:\\\\Users\\\\andre\\\\anaconda3\\\\lib',\n",
       " 'C:\\\\Users\\\\andre\\\\anaconda3',\n",
       " '',\n",
       " 'C:\\\\Users\\\\andre\\\\anaconda3\\\\lib\\\\site-packages',\n",
       " 'C:\\\\Users\\\\andre\\\\anaconda3\\\\lib\\\\site-packages\\\\win32',\n",
       " 'C:\\\\Users\\\\andre\\\\anaconda3\\\\lib\\\\site-packages\\\\win32\\\\lib',\n",
       " 'C:\\\\Users\\\\andre\\\\anaconda3\\\\lib\\\\site-packages\\\\Pythonwin',\n",
       " 'C:\\\\Users\\\\andre\\\\anaconda3\\\\lib\\\\site-packages\\\\IPython\\\\extensions',\n",
       " 'C:\\\\Users\\\\andre\\\\.ipython']"
      ]
     },
     "execution_count": 2,
     "metadata": {},
     "output_type": "execute_result"
    }
   ],
   "source": [
    "sys.path"
   ]
  },
  {
   "cell_type": "code",
   "execution_count": 4,
   "id": "e62876a4",
   "metadata": {},
   "outputs": [],
   "source": [
    "import utils2"
   ]
  },
  {
   "cell_type": "code",
   "execution_count": 5,
   "id": "3d417f90",
   "metadata": {},
   "outputs": [
    {
     "data": {
      "text/plain": [
       "'ABC'"
      ]
     },
     "execution_count": 5,
     "metadata": {},
     "output_type": "execute_result"
    }
   ],
   "source": [
    "utils2.alphabet"
   ]
  },
  {
   "cell_type": "code",
   "execution_count": 6,
   "id": "d410f5d5",
   "metadata": {},
   "outputs": [
    {
     "data": {
      "text/plain": [
       "'abcdefghijklmnopqrstuvwxyz'"
      ]
     },
     "execution_count": 6,
     "metadata": {},
     "output_type": "execute_result"
    }
   ],
   "source": [
    "alpha = ascii_lowercase\n",
    "alpha"
   ]
  },
  {
   "cell_type": "code",
   "execution_count": 7,
   "id": "0fe2cbca",
   "metadata": {},
   "outputs": [
    {
     "data": {
      "text/plain": [
       "'alfio'"
      ]
     },
     "execution_count": 7,
     "metadata": {},
     "output_type": "execute_result"
    }
   ],
   "source": [
    "#la stringa è un oggetto di sola lettura, non assegnazione\n",
    "#alpha[1] = '!' sarà un errore\n",
    "#per modificare una stringa possiamo usare l'indexing\n",
    "\n",
    "name = 'affio'\n",
    "new_name = name[:1] + 'l' + name[2:]\n",
    "new_name"
   ]
  },
  {
   "cell_type": "markdown",
   "id": "63112eaf",
   "metadata": {},
   "source": [
    "Vorrei però riutilizzare questa funzionalità di cambiare parti di stringa. Ci conviene automatizzare il processo.\n",
    "Noi vogliamo avere un programma che ci cambia un carattere in una posizione, indipendentemente dalla stringa.\n",
    "E si può poi creare una funzione"
   ]
  },
  {
   "cell_type": "code",
   "execution_count": 8,
   "id": "c36d914a",
   "metadata": {},
   "outputs": [],
   "source": [
    "name = 'Affio'\n",
    "wrong_char_pos = 1\n",
    "new_char = 'l'"
   ]
  },
  {
   "cell_type": "code",
   "execution_count": 26,
   "id": "f62c1161",
   "metadata": {},
   "outputs": [
    {
     "data": {
      "text/plain": [
       "'Alfio'"
      ]
     },
     "execution_count": 26,
     "metadata": {},
     "output_type": "execute_result"
    }
   ],
   "source": [
    "name = name[:wrong_char_pos] + new_char + name[wrong_char_pos+1:]\n",
    "name"
   ]
  },
  {
   "cell_type": "code",
   "execution_count": 9,
   "id": "36b0501e",
   "metadata": {},
   "outputs": [
    {
     "data": {
      "text/plain": [
       "'Alfio'"
      ]
     },
     "execution_count": 9,
     "metadata": {},
     "output_type": "execute_result"
    }
   ],
   "source": [
    "def change_char(name, wrong_char_pos, new_char):\n",
    "    new_name = name[:wrong_char_pos] + new_char + name[wrong_char_pos+1:]\n",
    "    return new_name\n",
    "\n",
    "change_char('Affio', 1,'l')"
   ]
  },
  {
   "cell_type": "markdown",
   "id": "a2483ee6",
   "metadata": {},
   "source": [
    "Possiamo anche vincolare i caratteri:\n",
    "per esempio possiamo dare un valore di default, così se non si passa il valore allora ci sarà un default value\n"
   ]
  },
  {
   "cell_type": "code",
   "execution_count": 28,
   "id": "986002a3",
   "metadata": {},
   "outputs": [
    {
     "data": {
      "text/plain": [
       "'Effio'"
      ]
     },
     "execution_count": 28,
     "metadata": {},
     "output_type": "execute_result"
    }
   ],
   "source": [
    "#valore default ultimo nella lista\n",
    "def change_char(name, new_char, wrong_char_pos=0):\n",
    "    new_name = name[:wrong_char_pos] + new_char + name[wrong_char_pos+1:]\n",
    "    return new_name\n",
    "\n",
    "change_char('Affio','E')"
   ]
  },
  {
   "cell_type": "markdown",
   "id": "8373ca7a",
   "metadata": {},
   "source": [
    "Una volta finita la funzione la si può incollare in pycharm "
   ]
  },
  {
   "cell_type": "code",
   "execution_count": null,
   "id": "7252464c",
   "metadata": {},
   "outputs": [],
   "source": [
    "def change_char(name, wrong_char_pos, new_char):\n",
    "    new_name = name[:wrong_char_pos] + new_char + name[wrong_char_pos+1:]\n",
    "    return new_name"
   ]
  },
  {
   "cell_type": "code",
   "execution_count": 35,
   "id": "39978cbe",
   "metadata": {},
   "outputs": [],
   "source": [
    "#un altro modo potrebbe essere convertire una \n",
    "#stringa in una lista\n",
    "\n",
    "alpha2 = list(alpha)"
   ]
  },
  {
   "cell_type": "code",
   "execution_count": 41,
   "id": "af9988f7",
   "metadata": {},
   "outputs": [],
   "source": [
    "my_list = ['A', 'B', 'C', 'A']\n",
    "#con la lista si puo' agire sugli elementi\n",
    "my_list[1] = 'X'"
   ]
  },
  {
   "cell_type": "code",
   "execution_count": 42,
   "id": "302a2a03",
   "metadata": {},
   "outputs": [
    {
     "data": {
      "text/plain": [
       "['A', 'X', 'C', 'A', 'A']"
      ]
     },
     "execution_count": 42,
     "metadata": {},
     "output_type": "execute_result"
    }
   ],
   "source": [
    "my_list.append('A')\n",
    "my_list"
   ]
  },
  {
   "cell_type": "markdown",
   "id": "f630782b",
   "metadata": {},
   "source": [
    "Continuiamo a costruire il nostro generatore. Aggiungiamo un punto per dirgli che vogliamo che la parola sia lunga fino a quando no n incontra un punto.\n",
    "\n",
    "- come estraggo casualmente un elemento dalla lista? Mi serve un generatore di numeri interi casuali per poi assegnarlo all'indice della lista/stringa. Per fare questo usiamo NUMPY --> numpy.random.randint"
   ]
  },
  {
   "cell_type": "code",
   "execution_count": 16,
   "id": "48e2c100",
   "metadata": {},
   "outputs": [],
   "source": [
    "alpha = list(alpha)\n",
    "alpha.append('.')"
   ]
  },
  {
   "cell_type": "code",
   "execution_count": 12,
   "id": "16bfc96f",
   "metadata": {},
   "outputs": [],
   "source": [
    "import numpy as np"
   ]
  },
  {
   "cell_type": "code",
   "execution_count": 13,
   "id": "5becf486",
   "metadata": {},
   "outputs": [
    {
     "name": "stdout",
     "output_type": "stream",
     "text": [
      "k\n"
     ]
    }
   ],
   "source": [
    "i = np.random.randint(len(alpha))\n",
    "char = alpha[i]\n",
    "print(char)"
   ]
  },
  {
   "cell_type": "markdown",
   "id": "f2196f37",
   "metadata": {},
   "source": [
    "Per ripetere questa istruzione noi possiamo usare un ciclo:\n",
    "- ciclo while: while condizione:\n",
    "                    istruzioni da eseguire\n",
    "- ciclo for"
   ]
  },
  {
   "cell_type": "code",
   "execution_count": 17,
   "id": "fdfe8083",
   "metadata": {},
   "outputs": [
    {
     "name": "stdout",
     "output_type": "stream",
     "text": [
      "i\n",
      "k\n",
      "n\n",
      "y\n",
      "o\n",
      ".\n"
     ]
    }
   ],
   "source": [
    "char = None\n",
    "while char != '.':\n",
    "        i = np.random.randint(len(alpha))\n",
    "        char = alpha[i]\n",
    "        print(char)"
   ]
  },
  {
   "cell_type": "markdown",
   "id": "f45bfee3",
   "metadata": {},
   "source": [
    "noi però vogliamo accumulare queste lettere, non stamparle e basta."
   ]
  },
  {
   "cell_type": "code",
   "execution_count": 36,
   "id": "1bf831a0",
   "metadata": {},
   "outputs": [
    {
     "data": {
      "text/plain": [
       "'uuutxtnzfb.'"
      ]
     },
     "execution_count": 36,
     "metadata": {},
     "output_type": "execute_result"
    }
   ],
   "source": [
    "char = None\n",
    "output = \"\"\n",
    "while char != '.':\n",
    "        i = np.random.randint(len(alpha))\n",
    "        char = alpha[i]\n",
    "        output = output + char\n",
    "output"
   ]
  },
  {
   "cell_type": "code",
   "execution_count": 18,
   "id": "74503149",
   "metadata": {},
   "outputs": [],
   "source": [
    "char = None\n",
    "output = []\n",
    "while char != '.':\n",
    "    i = np.random.randint(len(alpha))\n",
    "    char = alpha[i]\n",
    "    output.append(char)"
   ]
  },
  {
   "cell_type": "markdown",
   "id": "96bddfbc",
   "metadata": {},
   "source": [
    "Il problema è che queste parole sono molto lunghe. Voglio capire quanto sono lunghe in media le parole.\n",
    "Faccio un funzione perchè in futuro mi servirà, quindi individuo i parametri.\n",
    "Per farla eseguire più volte uso un ciclo for."
   ]
  },
  {
   "cell_type": "code",
   "execution_count": 19,
   "id": "d3f1ba01",
   "metadata": {},
   "outputs": [],
   "source": [
    "def generate_word(alpha, term='.'):\n",
    "    char = None\n",
    "    output = []\n",
    "    while char != term:\n",
    "        i = np.random.randint(len(alpha))\n",
    "        char = alpha[i]\n",
    "        output.append(char)\n",
    "    return \"\".join(output) #questo serve quando ho una lista e voglio unire gli elementi in una stringa"
   ]
  },
  {
   "cell_type": "code",
   "execution_count": 20,
   "id": "9d5428f1",
   "metadata": {},
   "outputs": [
    {
     "data": {
      "text/plain": [
       "'djpwhh.'"
      ]
     },
     "execution_count": 20,
     "metadata": {},
     "output_type": "execute_result"
    }
   ],
   "source": [
    "generate_word(alpha=alpha)"
   ]
  },
  {
   "cell_type": "code",
   "execution_count": 22,
   "id": "94bd0c37",
   "metadata": {},
   "outputs": [
    {
     "data": {
      "text/plain": [
       "['gbcqagznuzinvsilkkilzgchy.',\n",
       " 'rorebkmxjcfsyxqqzwpwrpsyhvaesanxbgltktycqlxmzfnmcotbvijqvrzkpxdddhc.',\n",
       " 'kutd.',\n",
       " 'wd.',\n",
       " 'vomgjfobwdyktadrreomulvfwdlzwcwohcfrhkbewif.',\n",
       " 'bkdaa.',\n",
       " 'mzivdpokzamkhnmlqx.',\n",
       " 'vevvpwtpqgdbclcqapksm.',\n",
       " 'lozrmyozjidmafhcjgni.']"
      ]
     },
     "execution_count": 22,
     "metadata": {},
     "output_type": "execute_result"
    }
   ],
   "source": [
    "stats = []\n",
    "for x in range(1000):\n",
    "    w = generate_word(alpha=alpha)\n",
    "    stats.append(w)\n",
    "    \n",
    "stats[1:10]"
   ]
  },
  {
   "cell_type": "code",
   "execution_count": 49,
   "id": "937a915e",
   "metadata": {},
   "outputs": [
    {
     "data": {
      "text/plain": [
       "1000"
      ]
     },
     "execution_count": 49,
     "metadata": {},
     "output_type": "execute_result"
    }
   ],
   "source": [
    "len(stats)"
   ]
  },
  {
   "cell_type": "code",
   "execution_count": 23,
   "id": "c166a7dc",
   "metadata": {},
   "outputs": [
    {
     "name": "stdout",
     "output_type": "stream",
     "text": [
      "26.39\n"
     ]
    }
   ],
   "source": [
    "c = 0\n",
    "for word in stats:\n",
    "    c = c + len(word)\n",
    "    \n",
    "print(c/len(stats))"
   ]
  },
  {
   "cell_type": "markdown",
   "id": "44ca15b1",
   "metadata": {},
   "source": [
    "# Lezione 3"
   ]
  },
  {
   "cell_type": "code",
   "execution_count": 1,
   "id": "64074265",
   "metadata": {},
   "outputs": [],
   "source": [
    "from string import ascii_lowercase\n",
    "import numpy as np\n",
    "alpha = ascii_lowercase\n",
    "alpha = list(alpha)\n",
    "alpha.append('.')\n",
    "alpha.append(' ')"
   ]
  },
  {
   "cell_type": "code",
   "execution_count": 2,
   "id": "5f806c1c",
   "metadata": {},
   "outputs": [],
   "source": [
    "def generate_word(alpha, term=['.',' ']): #qui possiamo mettere anche due term\n",
    "    char = None\n",
    "    output = []\n",
    "    while char not in term: #ma dobbiamo confrontare char con un ogg singolo, non una lista che è un insieme\n",
    "        i = np.random.randint(len(alpha))\n",
    "        char = alpha[i]\n",
    "        output.append(char)\n",
    "    return \"\".join(output) "
   ]
  },
  {
   "cell_type": "code",
   "execution_count": 4,
   "id": "b68caaa0",
   "metadata": {},
   "outputs": [
    {
     "data": {
      "text/plain": [
       "'s.'"
      ]
     },
     "execution_count": 4,
     "metadata": {},
     "output_type": "execute_result"
    }
   ],
   "source": [
    "generate_word(alpha=alpha)"
   ]
  },
  {
   "cell_type": "markdown",
   "id": "82cf712e",
   "metadata": {},
   "source": [
    "a noi più che una lista (che può avere più elementi) servirebbe un insieme (set), il quale non tiene conto dell'ordine e considera gli elementi in modo univoco."
   ]
  },
  {
   "cell_type": "code",
   "execution_count": 8,
   "id": "3ce2ef4c",
   "metadata": {},
   "outputs": [
    {
     "data": {
      "text/plain": [
       "{1, 2, 3, 4, 5, 6, 8}"
      ]
     },
     "execution_count": 8,
     "metadata": {},
     "output_type": "execute_result"
    }
   ],
   "source": [
    "A ={1,2,3,4,5,6}\n",
    "A.add(8)\n",
    "\n",
    "A.union({1,2,10})\n",
    "A"
   ]
  },
  {
   "cell_type": "code",
   "execution_count": 9,
   "id": "7a6fdd3a",
   "metadata": {},
   "outputs": [
    {
     "data": {
      "text/plain": [
       "{1, 2}"
      ]
     },
     "execution_count": 9,
     "metadata": {},
     "output_type": "execute_result"
    }
   ],
   "source": [
    "A.intersection({1,2,10})"
   ]
  },
  {
   "cell_type": "code",
   "execution_count": 10,
   "id": "3059a630",
   "metadata": {},
   "outputs": [
    {
     "data": {
      "text/plain": [
       "{3, 4, 5, 6, 8}"
      ]
     },
     "execution_count": 10,
     "metadata": {},
     "output_type": "execute_result"
    }
   ],
   "source": [
    "A.difference({1,2,10})"
   ]
  },
  {
   "cell_type": "code",
   "execution_count": 11,
   "id": "53f646fe",
   "metadata": {},
   "outputs": [],
   "source": [
    "def generate_word(alpha, term={'.'}): #qui possiamo mettere anche due term\n",
    "    char = None\n",
    "    output = []\n",
    "    while char not in term: #ma dobbiamo confrontare char con un ogg singolo, non una lista che è un insieme\n",
    "        i = np.random.randint(len(alpha))\n",
    "        char = alpha[i]\n",
    "        output.append(char)\n",
    "    return \"\".join(output)"
   ]
  },
  {
   "cell_type": "code",
   "execution_count": 17,
   "id": "ffd22f2c",
   "metadata": {},
   "outputs": [],
   "source": [
    "stats = []\n",
    "for x in range(100000):\n",
    "    w = generate_word(alpha=alpha, term = {' ', '.'} )\n",
    "    stats.append(w)"
   ]
  },
  {
   "cell_type": "code",
   "execution_count": 18,
   "id": "fde24574",
   "metadata": {},
   "outputs": [
    {
     "name": "stdout",
     "output_type": "stream",
     "text": [
      "14.02564\n"
     ]
    }
   ],
   "source": [
    "c = 0\n",
    "for w in stats:\n",
    "    c = c + len(w)\n",
    "    \n",
    "print(c/len(stats))"
   ]
  },
  {
   "cell_type": "markdown",
   "id": "0fa80df4",
   "metadata": {},
   "source": [
    "Potremmo cercare di capire come sono distribuite le parole.\n",
    "- tramite un istogramma \n",
    "- oppure un boxplot\n",
    "\n",
    "L'istogramma serve per vedere quante parole da n lettere ci sono e poi metterle tutte in un grafico.\n",
    "Per fare questo possiamo introdurre la struttura dati del dizionario. Si tratta di un insieme di valori in coppia, di cui l'elemento di sinistra è la chiave e l'elemento di destra è la chiave.\n",
    "Le chiavi sono univoche perchè sono l'indice di riferimento all'interno del dizionario."
   ]
  },
  {
   "cell_type": "code",
   "execution_count": 19,
   "id": "8bfe663a",
   "metadata": {},
   "outputs": [],
   "source": [
    "dati = {'nome': 'alfio',\n",
    "        'cognome':'Ferrara',\n",
    "        'età':'47'}"
   ]
  },
  {
   "cell_type": "code",
   "execution_count": 20,
   "id": "42be07f8",
   "metadata": {},
   "outputs": [
    {
     "data": {
      "text/plain": [
       "'Ferrara'"
      ]
     },
     "execution_count": 20,
     "metadata": {},
     "output_type": "execute_result"
    }
   ],
   "source": [
    "dati['cognome']"
   ]
  },
  {
   "cell_type": "code",
   "execution_count": 21,
   "id": "9d381b3a",
   "metadata": {},
   "outputs": [],
   "source": [
    "#per aggiungere...\n",
    "dati['città'] = 'Milano'"
   ]
  },
  {
   "cell_type": "code",
   "execution_count": 22,
   "id": "a4b4a972",
   "metadata": {},
   "outputs": [
    {
     "data": {
      "text/plain": [
       "['nome', 'cognome', 'età', 'città']"
      ]
     },
     "execution_count": 22,
     "metadata": {},
     "output_type": "execute_result"
    }
   ],
   "source": [
    "#per scorrere gli elementi del dizionario con un ciclo?\n",
    "#posso scorrere le chiavi:\n",
    "\n",
    "dati.keys()\n",
    "list(dati.keys())"
   ]
  },
  {
   "cell_type": "code",
   "execution_count": 45,
   "id": "05c28b65",
   "metadata": {},
   "outputs": [
    {
     "data": {
      "text/plain": [
       "['alfio', 'Ferrara', '47', 'Milano']"
      ]
     },
     "execution_count": 45,
     "metadata": {},
     "output_type": "execute_result"
    }
   ],
   "source": [
    "#oppure scorro i valori\n",
    "list(dati.values())"
   ]
  },
  {
   "cell_type": "code",
   "execution_count": 23,
   "id": "d2821394",
   "metadata": {},
   "outputs": [
    {
     "name": "stdout",
     "output_type": "stream",
     "text": [
      "nome alfio\n",
      "cognome Ferrara\n",
      "età 47\n",
      "città Milano\n"
     ]
    }
   ],
   "source": [
    "#oppure leggo entrambi, e posso anche legarli a un ciclo\n",
    "for k, v in dati.items():\n",
    "    print(k, v)"
   ]
  },
  {
   "cell_type": "markdown",
   "id": "b9c96110",
   "metadata": {},
   "source": [
    "Noi introduciamo i dizionari per fare il lavoro di contare la distribuzione.\n",
    "Come chiave si può usare la lunghezza delle parole"
   ]
  },
  {
   "cell_type": "markdown",
   "id": "e64d588a",
   "metadata": {},
   "source": [
    "Noi vogliamo ottenere questa cosa qua:\n",
    "idx = {\n",
    "    0:10,\n",
    "    1:23,\n",
    "    2:45,\n",
    "    ...\n",
    "    }"
   ]
  },
  {
   "cell_type": "code",
   "execution_count": 26,
   "id": "07910c34",
   "metadata": {},
   "outputs": [],
   "source": [
    "idx = {}\n",
    "n = None\n",
    "for word in stats:\n",
    "    n = len(word)\n",
    "    if n in idx.keys():\n",
    "        idx[n] = idx[n] + 1 #idx[n] mi restituisce il valore della chiave n, che inizialmente è 0 e viene così aumentato\n",
    "    else:\n",
    "        idx[n]=1"
   ]
  },
  {
   "cell_type": "code",
   "execution_count": 27,
   "id": "a92e0c70",
   "metadata": {},
   "outputs": [
    {
     "name": "stdout",
     "output_type": "stream",
     "text": [
      "12 3226\n",
      "8 4247\n",
      "13 2823\n",
      "32 776\n",
      "3 5932\n",
      "10 3718\n",
      "29 868\n",
      "5 5287\n",
      "30 792\n",
      "1 7017\n",
      "21 1582\n",
      "14 2789\n",
      "2 6716\n",
      "31 736\n",
      "4 5761\n",
      "25 1189\n",
      "16 2336\n",
      "38 480\n",
      "11 3478\n",
      "20 1700\n",
      "28 969\n",
      "18 2017\n",
      "15 2608\n",
      "19 2010\n",
      "26 1052\n",
      "17 2206\n",
      "7 4628\n",
      "42 360\n",
      "6 4933\n",
      "27 1022\n",
      "23 1436\n",
      "22 1527\n",
      "9 3916\n",
      "61 72\n",
      "33 681\n",
      "40 383\n",
      "37 508\n",
      "41 370\n",
      "35 566\n",
      "45 265\n",
      "73 32\n",
      "56 127\n",
      "63 70\n",
      "69 50\n",
      "51 174\n",
      "50 182\n",
      "47 277\n",
      "44 314\n",
      "36 522\n",
      "34 617\n",
      "24 1349\n",
      "71 40\n",
      "48 224\n",
      "86 10\n",
      "66 48\n",
      "46 246\n",
      "72 29\n",
      "43 298\n",
      "39 398\n",
      "74 29\n",
      "49 185\n",
      "125 3\n",
      "76 38\n",
      "58 104\n",
      "77 32\n",
      "52 162\n",
      "60 91\n",
      "75 42\n",
      "59 95\n",
      "64 65\n",
      "53 164\n",
      "54 151\n",
      "83 21\n",
      "98 7\n",
      "55 135\n",
      "93 11\n",
      "67 57\n",
      "68 53\n",
      "65 68\n",
      "57 110\n",
      "87 10\n",
      "88 8\n",
      "62 70\n",
      "94 4\n",
      "79 21\n",
      "70 40\n",
      "137 2\n",
      "85 15\n",
      "109 2\n",
      "80 19\n",
      "91 12\n",
      "110 5\n",
      "111 2\n",
      "78 26\n",
      "102 3\n",
      "96 3\n",
      "103 8\n",
      "81 14\n",
      "117 2\n",
      "99 3\n",
      "90 11\n",
      "132 1\n",
      "95 16\n",
      "113 1\n",
      "84 16\n",
      "100 4\n",
      "112 2\n",
      "82 20\n",
      "97 4\n",
      "122 2\n",
      "92 5\n",
      "104 1\n",
      "89 10\n",
      "108 3\n",
      "101 2\n",
      "123 1\n",
      "114 1\n",
      "129 1\n",
      "119 2\n",
      "145 1\n",
      "124 2\n",
      "107 2\n",
      "115 3\n",
      "158 1\n",
      "118 2\n",
      "105 2\n",
      "120 1\n",
      "154 1\n",
      "116 1\n"
     ]
    }
   ],
   "source": [
    "for k, v in idx.items():\n",
    "    print(k, v)"
   ]
  },
  {
   "cell_type": "code",
   "execution_count": 59,
   "id": "ca4097ef",
   "metadata": {},
   "outputs": [],
   "source": [
    "#si può anche gestire l'errore, invece che usare l'if per prevederlo\n",
    "#possiamo fare un try and catch e far svolgere una alternativa\n",
    "idx = {}\n",
    "n = None\n",
    "for word in stats:\n",
    "    n = len(word)\n",
    "    try:\n",
    "        idx[n] = idx[n]+1\n",
    "    except KeyError:\n",
    "        idx[n] = 1"
   ]
  },
  {
   "cell_type": "markdown",
   "id": "22c673da",
   "metadata": {},
   "source": [
    "#### vogliamo fare un grafico a questo punto"
   ]
  },
  {
   "cell_type": "code",
   "execution_count": 29,
   "id": "b97b7b99",
   "metadata": {},
   "outputs": [],
   "source": [
    "import matplotlib.pyplot as plt"
   ]
  },
  {
   "cell_type": "code",
   "execution_count": 39,
   "id": "926756e7",
   "metadata": {},
   "outputs": [],
   "source": [
    "g = [1,2,3,5,3,6,2,9,1,1,4]"
   ]
  },
  {
   "cell_type": "code",
   "execution_count": 41,
   "id": "56f980d2",
   "metadata": {},
   "outputs": [
    {
     "data": {
      "text/plain": [
       "<function matplotlib.pyplot.show(close=None, block=None)>"
      ]
     },
     "execution_count": 41,
     "metadata": {},
     "output_type": "execute_result"
    },
    {
     "data": {
      "image/png": "[encoded data removed]",
      "text/plain": [
       "<Figure size 700x500 with 1 Axes>"
      ]
     },
     "metadata": {},
     "output_type": "display_data"
    }
   ],
   "source": [
    "fig, ax = plt.subplots(figsize = (7, 5))\n",
    "\n",
    "ax.plot(g)\n",
    "ax.plot(np.power(g, 8))\n",
    "ax.set_yscale('log')\n",
    "\n",
    "plt.tight_layout()\n",
    "plt.show"
   ]
  },
  {
   "cell_type": "code",
   "execution_count": 28,
   "id": "27431d80",
   "metadata": {},
   "outputs": [],
   "source": [
    "'''\n",
    "noi vogliamo fare questo\n",
    "x = list(idx.keys())\n",
    "height = list(idx.values())\n",
    "'''\n",
    "\n",
    "x, h = [],[]\n",
    "for k, v in idx.items():\n",
    "    x.append(k)\n",
    "    h.append(v)"
   ]
  },
  {
   "cell_type": "code",
   "execution_count": 30,
   "id": "88e93850",
   "metadata": {},
   "outputs": [
    {
     "data": {
      "image/png": "[encoded data removed]",
      "text/plain": [
       "<Figure size 800x400 with 3 Axes>"
      ]
     },
     "metadata": {},
     "output_type": "display_data"
    }
   ],
   "source": [
    "fig, ax = plt.subplots(1,3,figsize=(8,4))\n",
    "\n",
    "ax[0].bar(x, h)\n",
    "ax[1].boxplot(h)\n",
    "ax[2].scatter(x,h)\n",
    "\n",
    "plt.tight_layout()\n",
    "plt.show()"
   ]
  },
  {
   "cell_type": "markdown",
   "id": "254bf737",
   "metadata": {},
   "source": [
    "# Lezione 4\n",
    "\n",
    "## Miglioramento del processo di generazione\n",
    "\n",
    "Le parole che abbiamo generato finora sono irrealistiche e scomode.\n",
    "- lunghezza parole: parametrizzare la probabiità del carattere di terminazione\n",
    "- gestire la generazione di numeri casuali con distribuzioni date (no uniformità)\n",
    "- abbandonare l'assunzione di indipendenza"
   ]
  },
  {
   "cell_type": "code",
   "execution_count": 33,
   "id": "046777a2",
   "metadata": {},
   "outputs": [
    {
     "data": {
      "text/plain": [
       "['wewneflckli ',\n",
       " 'bzhoryu ',\n",
       " 'rvdvsgltqst ',\n",
       " 'bpnjeuyapnfv ',\n",
       " 'buaicpojrjbxnnognhafrythwaepmfa.']"
      ]
     },
     "execution_count": 33,
     "metadata": {},
     "output_type": "execute_result"
    }
   ],
   "source": [
    "stats[0:5]"
   ]
  },
  {
   "cell_type": "markdown",
   "id": "a8d5ea11",
   "metadata": {},
   "source": [
    "Dove ci procuriamo queste statistiche? Come le utilizziamo queste stime per inserire queste statistiche?\n",
    "\n",
    "- usare dati da una fonte esterna\n",
    "- manipolare questi dati\n",
    "\n",
    "### Usare dati: costruirseli da soli\n",
    "\n",
    "Possiamo stimare la frequenza dei caratteri usando dei testi scritti. In questo caso i dati non saranno necessariamente tabellari, saranno meno strutturati (i testi per esempio).\n",
    "Possiamo usare i promessi sposi per fare questo."
   ]
  },
  {
   "cell_type": "code",
   "execution_count": 36,
   "id": "5a93c778",
   "metadata": {},
   "outputs": [],
   "source": [
    "filename = \"/Users/andre/OneDrive/Desktop/DATA/promessi_sposi.txt\"\n",
    "with open(filename, 'r') as infile:\n",
    "    text = infile.readlines()\n",
    "    \n",
    "#questo mi salva il file txt come una lista formata dalle diverse righe\n",
    "#il problema nostro è che ci sono molti a capo (\\n), che vogliamo togliere"
   ]
  },
  {
   "cell_type": "code",
   "execution_count": null,
   "id": "a7dea99b",
   "metadata": {},
   "outputs": [],
   "source": []
  },
  {
   "cell_type": "code",
   "execution_count": 38,
   "id": "b37b3bea",
   "metadata": {},
   "outputs": [
    {
     "data": {
      "text/plain": [
       "['I Promessi sposi \\n',\n",
       " '\\n',\n",
       " 'di Alessandro Manzoni \\n',\n",
       " '\\n',\n",
       " '\\n',\n",
       " 'Letteratura italiana Einaudi \\n',\n",
       " '\\n',\n",
       " '\\n',\n",
       " '\\n',\n",
       " 'Edizione di riferimento: \\n']"
      ]
     },
     "execution_count": 38,
     "metadata": {},
     "output_type": "execute_result"
    }
   ],
   "source": [
    "text[:10]"
   ]
  },
  {
   "cell_type": "code",
   "execution_count": 43,
   "id": "7c2373c2",
   "metadata": {},
   "outputs": [
    {
     "data": {
      "text/plain": [
       "'I Promessi sposi'"
      ]
     },
     "execution_count": 43,
     "metadata": {},
     "output_type": "execute_result"
    }
   ],
   "source": [
    "#per togliere a capo e spazi usiamo strip però funziona per ogni riga e basta\n",
    "text[0].strip()"
   ]
  },
  {
   "cell_type": "code",
   "execution_count": 51,
   "id": "ed88628b",
   "metadata": {},
   "outputs": [
    {
     "data": {
      "text/plain": [
       "['I Promessi sposi',\n",
       " 'di Alessandro Manzoni',\n",
       " 'Letteratura italiana Einaudi',\n",
       " 'Edizione di riferimento:',\n",
       " 'a cura di Angelo M archese,']"
      ]
     },
     "execution_count": 51,
     "metadata": {},
     "output_type": "execute_result"
    }
   ],
   "source": [
    "#IMPORTANTE SAPERLO FARE\n",
    "new_text = []\n",
    "for i in text: #per ogni riga nella lista\n",
    "    new_line = i.strip() #nuova riga è la riga pulita\n",
    "    if len(new_line) > 0: #se questa riga è più lunga di 0\n",
    "        new_text.append(i.strip()) #metti la riga nel new text\n",
    "    \n",
    "new_text[:5]"
   ]
  },
  {
   "cell_type": "markdown",
   "id": "669735da",
   "metadata": {},
   "source": [
    "**La lista delle cose che hanno una certa proprietà**"
   ]
  },
  {
   "cell_type": "code",
   "execution_count": 59,
   "id": "fd272e5b",
   "metadata": {},
   "outputs": [
    {
     "data": {
      "text/plain": [
       "[0, 2, 4, 6, 8]"
      ]
     },
     "execution_count": 59,
     "metadata": {},
     "output_type": "execute_result"
    }
   ],
   "source": [
    "#for i in range(10):\n",
    "    #print(i)\n",
    "    \n",
    "[x for x in range(10)] #list comprhension\n",
    "[x for x in range(10) if x % 2 == 0]"
   ]
  },
  {
   "cell_type": "code",
   "execution_count": 62,
   "id": "d8f30029",
   "metadata": {},
   "outputs": [
    {
     "data": {
      "text/plain": [
       "['I Promessi sposi',\n",
       " 'di Alessandro Manzoni',\n",
       " 'Letteratura italiana Einaudi',\n",
       " 'Edizione di riferimento:',\n",
       " 'a cura di Angelo M archese,',\n",
       " 'M ondadori, M ilano 1985',\n",
       " 'Letteratura italiana Einaudi',\n",
       " 'Sommario',\n",
       " 'Introduzione',\n",
       " '1',\n",
       " 'Capitolo 1',\n",
       " '5',\n",
       " 'Capitolo 11',\n",
       " '25',\n",
       " 'Capitolo 111',\n",
       " '40',\n",
       " 'Capitolo IV',\n",
       " '57',\n",
       " 'Capitolo V',\n",
       " '74',\n",
       " 'Capitolo VI',\n",
       " '91',\n",
       " 'Capitolo VI 1',\n",
       " '107',\n",
       " 'Capitolo VI 11',\n",
       " '128',\n",
       " 'Capitolo IX',\n",
       " '152',\n",
       " 'Capitolo X',\n",
       " '175',\n",
       " 'Capitolo X1',\n",
       " '200',\n",
       " 'Capitolo XII',\n",
       " '221',\n",
       " 'Capitolo XIII',\n",
       " '236',\n",
       " 'Capitolo XIV',\n",
       " '253',\n",
       " 'Capitolo XV',\n",
       " '271',\n",
       " 'Capitolo XVI',\n",
       " '289',\n",
       " 'Capitolo XVII',\n",
       " '306',\n",
       " 'Capitolo XVIII',\n",
       " '323',\n",
       " 'Capitolo XIX',\n",
       " '339',\n",
       " 'Capitolo XX',\n",
       " '355',\n",
       " 'Capitolo XXI',\n",
       " '371',\n",
       " 'C apitolo XXII',\n",
       " '387',\n",
       " 'Capitolo XXIII',\n",
       " '400',\n",
       " 'Capitolo XXIV',\n",
       " '420',\n",
       " 'Capitolo XXV',\n",
       " '448',\n",
       " 'Capitolo XXVI',\n",
       " '464',\n",
       " 'Capitolo XXVII',\n",
       " '481',\n",
       " 'Capitolo XXVIII',\n",
       " '498',\n",
       " 'Letteratura italiana Einaudi',\n",
       " 'Sommario',\n",
       " 'Capitolo XXIX',\n",
       " '521',\n",
       " 'Capitolo XXX',\n",
       " '537',\n",
       " 'Capitolo XXXI',\n",
       " '551',\n",
       " 'Capitolo XXXII',\n",
       " '571',\n",
       " 'Capitolo XXXIII',\n",
       " '592',\n",
       " 'Capitolo XXXIV',\n",
       " '614',\n",
       " 'Capitolo XXXV',\n",
       " '637',\n",
       " 'Capitolo XXXVI',\n",
       " '652',\n",
       " 'Capitolo XXXVII',\n",
       " '674',\n",
       " 'Capitolo XXXVIII',\n",
       " '689',\n",
       " 'Letteratura italiana Einaudi iv',\n",
       " 'INTRODUZIONE',\n",
       " \"Â«L'H istoria si puÃ² veramente deffinire una guerra illuÂ¬\",\n",
       " \"stre contro il Tempo, perchÃ© togliendoti di mano gl'anni\",\n",
       " 'suoi prigionieri, anzi giÃ\\xa0 fatti cadaueri, li richiama in vita,',\n",
       " 'li passa in rassegna, e li schiera di nuovo in battaglia. Ma',\n",
       " \"gi 'illustri Campioni che in tal A rringo fanno messe di PalÂ¬\",\n",
       " \"me e d'A llori, rapiscono solo che le sole spoglie piÃ¹ sfarzoÂ¬\",\n",
       " \"se e brillanti, imbalsamando co' loro inchiostri le Imprese\",\n",
       " 'dePrencipi e Potentati, e qualificati Personaggi, etrapon-',\n",
       " \"tando coll'ago finissimo dellâ€™ingegno i fili d'oro e di seta,\",\n",
       " 'che formano un perpetuo ricamo di A tt/oni gloriose. PerÃ²',\n",
       " \"alla mia debolezza non Ã¨ lecito solleuarsi a tal'argomenti,\",\n",
       " \"e sublimitÃ\\xa0 pericolose, con aggirarsi tra L abirinti de' PoliÂ¬\",\n",
       " \"tici maneggi, et/'/ rimbombo de' bellici Oricalchi: solo che\",\n",
       " 'hauendo hauuto notitia di fatti memorabili, se ben capiÂ¬',\n",
       " 'torno a gente meccaniche, e di piccol affare, mi accingo di',\n",
       " 'lasciarne memoria a Posteri, con far di tutto schietta e geÂ¬',\n",
       " 'nuinamente il Racconto, ouuero sia Rei adone. Nella quaÂ¬',\n",
       " \"le si vedrÃ\\xa0 in angusto Teatro luttuose Traggedie d'horrori,\",\n",
       " \"e Scene di malvaggitÃ\\xa0 grandiosa, con intermezi d'imprese\",\n",
       " 'virtuose e buontÃ\\xa0 angeliche, opposte alle operationi diaboÂ¬',\n",
       " 'liche. E veramente, considerando che questi nostri climi',\n",
       " 'sijno sotto Iâ€™amparo del Re Cattolico nostro Signore, che Ã¨',\n",
       " 'quel Sole che mai tramonta, e che sopra di essi, con riflesÂ¬',\n",
       " 'so Lume, qual Luna giamai calante, ri splenda TH eroe di',\n",
       " 'nobil Prosapia che prÃ² tempore ne tiene le sue parti, e',\n",
       " \"gl'Ampi issi mi Senatori quali Stelle fisse, e gl'altri SpettaÂ¬\",\n",
       " \"bili Magistrati qual'erranti Pianeti spandi no la luce per\",\n",
       " 'ogni doue, venendo cosÃ¬ a formare un nobilissimo Cielo,',\n",
       " 'altra causale trouar non si puÃ² del vederlo tramutato in',\n",
       " \"inferno d'atti tenebrosi, malvaggitÃ\\xa0 e sevitie che dagl'huo-\",\n",
       " 'mini temerarij si vanno moltiplicando, se non se arte e',\n",
       " \"fattura diabolica, attesochÃ© l'humana malitia per sÃ© sola\",\n",
       " 'bastar non dourebbe a resistere a tanti H eroi, che con oc-',\n",
       " 'Letteratura italiana Einaudi',\n",
       " 'I',\n",
       " 'A lessandro M anioni -1 Promessi sposi',\n",
       " \"chij d'A rgo e bracci di Briareo, si vanno trafficando per li\",\n",
       " 'pubblici emolumenti. Per locchÃ© descriuendo questo RacÂ¬',\n",
       " \"conto auuenuto ne' tempi di mia verde staggione, abben-\",\n",
       " 'chÃ© la piÃ¹ parte delle persone che vi rappresentano le loro',\n",
       " 'parti, sijno sparite dalla Scena del M ondo, con rendersi',\n",
       " 'tributarij delle Parche, pure per degni rispetti, si tacerÃ\\xa0 li',\n",
       " \"loro nomi, cioÃ¨ la parentela, et il medesmo si farÃ\\xa0 de' luo-\",\n",
       " 'chi, solo indicando li T erritorij generai iter. N Ã¨ alcuno dirÃ',\n",
       " 'questa sij imperfettione del Racconto, e defformitÃ\\xa0 di queÂ¬',\n",
       " 'sto mio rozzo Parto, a meno questo tale Critico non sij',\n",
       " 'persona affatto diggiuna della Filosofia: che quanto',\n",
       " \"agl'huomini in essa versati, ben i cederanno nulla mancare\",\n",
       " 'alla sostanza di detta Narratione. ImperciocchÃ©, essendo',\n",
       " 'cosa evidente, e da verun negata non essere i nomi se non',\n",
       " 'puri purissimi accidenti...Â»',\n",
       " \"Â«Ma, quando io avrÃ² durata l'eroica fatica di trascriver\",\n",
       " 'questa storia da questo dilavato e graffiato autografo, e',\n",
       " \"l'avrÃ² data, come si suol dire, alla luce, si troverÃ\\xa0 poi chi\",\n",
       " 'duri la fatica di leggerla?Â»',\n",
       " 'Q uesta riflessione dubitativa, nata nel travaglio del deÂ¬',\n",
       " 'cifrare uno scarabocchio che veniva dopo accidenti, mi feÂ¬',\n",
       " 'ce sospender la copia, e pensar piÃ¹ seriamente a quello che',\n",
       " 'convenisse di fare. Â«Ben Ã¨ vero, dicevo tra me, scartabelÂ¬',\n",
       " 'lando il manoscritto, ben Ã¨ vero che quella grandine di',\n",
       " 'concettini e di figure non continua cosÃ¬ alia distesa per',\n",
       " \"tutta l'opera. Il buon secentista ha voluto sul principio\",\n",
       " 'mettere in mostra la sua virtÃ¹; ma poi, nel corso della narÂ¬',\n",
       " 'razione, e talvolta per lunghi tratti, lo stile cammina ben',\n",
       " \"piÃ¹ naturale e piÃ¹ piano. SÃ¬; ma com'Ã¨ dozzinale! com'Ã¨\",\n",
       " \"sguaiato! com'Ã¨ scorretto! Idiotismi lombardi a iosa, frasi\",\n",
       " 'della lingua adoperate a sproposito, grammatica arbitraÂ¬',\n",
       " 'ria, periodi sgangherati. E poi, qualche eleganza spagnola',\n",
       " \"seminata qua e lÃ\\xa0; e poi, eh'Ã¨ peggio, ne' luoghi piÃ¹ terribiÂ¬\",\n",
       " \"li o piÃ¹ pietosi della storia, a ogni occasione d'eccitar maÂ¬\",\n",
       " \"raviglia, o di far pensare, a tutti que' passi insomma che riÂ¬\",\n",
       " \"chiedono bensÃ¬ un po' di rettorica, ma rettorica discreta,\",\n",
       " 'Letteratura italiana Einaudi',\n",
       " 'A lessandro M anioni -1 Promessi sposi',\n",
       " 'fine, di buon gusto, costui non manca mai di metterci di',\n",
       " 'quella sua cosÃ¬ fatta del proemio. E allora, accozzando,',\n",
       " \"con un'abilitÃ\\xa0 mirabile, le qualitÃ\\xa0 piÃ¹ opposte, trova la\",\n",
       " 'maniera di riuscir rozzo insieme e affettato, nella stessa',\n",
       " 'pagina, nello stesso periodo, nello stesso vocabolo. Ecco',\n",
       " 'qui: declamazioni ampollose, composte a forza di soleciÂ¬',\n",
       " 'smi pedestri, e da per tutto quella goffaggine ambiziosa,',\n",
       " \"eh'Ã¨ il proprio carattere degli scritti di quel secolo, in queÂ¬\",\n",
       " 'sto paese. In vero, non Ã¨ cosa da presentare a lettori dâ€™og-',\n",
       " 'gigiorno: son troppo ammaliziati, troppo disgustati di queÂ¬',\n",
       " 'sto genere di stravaganze. Meno male, che il buon',\n",
       " \"pensiero m'Ã¨ venuto sul principio di questo sciagurato laÂ¬\",\n",
       " 'voro: e me ne lavo le maniÂ».',\n",
       " \"Nell'atto perÃ² di chiudere lo scartafaccio, per riporlo,\",\n",
       " 'mi sapeva male che una storia cosÃ¬ bella dovesse rimanersi',\n",
       " 'tuttavia sconosciuta: perchÃ©, in quanto storia, puÃ² essere',\n",
       " 'che al lettore ne paia altrimenti, ma a me era parsa bella,',\n",
       " 'come dico; molto beila. Â«PerchÃ© non si potrebbe, pensai,',\n",
       " \"prender la serie de' fatti da questo manoscritto, e rifarne\",\n",
       " 'la dicitura?Â» Non essendosi presentato alcuna obiezion raÂ¬',\n",
       " \"gionevole, il partito fu subito abbracciato. Ed ecco l'origiÂ¬\",\n",
       " \"ne del presente libro, esposta con un 'ingenuitÃ\\xa0 pari all 'imÂ¬\",\n",
       " 'portanza del libro medesimo.',\n",
       " \"T al uni perÃ² di que' fatti, certi costumi descritti dal noÂ¬\",\n",
       " \"stro autore, c'eran sembrati cosÃ¬ nuovi, cosÃ¬ strani, per non\",\n",
       " 'dir peggio, che, prima di prestargli fede, abbi am voluto inÂ¬',\n",
       " 'terrogare altri testimoni: e ci siam messi a frugar nelle meÂ¬',\n",
       " 'morie di quel tempo, per chiarirci se veramente il mondo',\n",
       " 'camminasse allora a quel modo. Una tale indagine dissipÃ²',\n",
       " 'tutti i nostri dubbi: a ogni passo ci abbattevamo in cose',\n",
       " 'consimili, e in cose piÃ¹ forti: e, quello che ci parve piÃ¹ deÂ¬',\n",
       " \"cisivo, abbi am perfino ritrovati alcuni personaggi, de' quaÂ¬\",\n",
       " 'li non avendo mai avuto notizia fuor che dal nostro manoÂ¬',\n",
       " 'scritto, eravamo in dubbio se fossero realmente esistiti. E,',\n",
       " \"al /'occorrenza, citeremo alcuna di quelle testimonianze,\",\n",
       " 'Letteratura italiana Einaudi',\n",
       " '3',\n",
       " 'A lessandro M anioni -1 Promessi sposi',\n",
       " 'per procacciar fede alle cose, alle quali, per la loro stranezÂ¬',\n",
       " 'za, il lettore sarebbe piÃ¹ tentato di negarla.',\n",
       " 'Ma, rifiutando come intollerabile la dicitura del nostro',\n",
       " 'autore, che dicitura vi abbiam noi sostituita? Qui sta il',\n",
       " 'punto.',\n",
       " \"Chiunque, senza esser pregato, s'intromette a rifar\",\n",
       " \"l'opera altrui, sâ€™espone a rendere uno stretto conto della\",\n",
       " 'sua, e ne contrae in certo modo lâ€˜obbligazione: Ã¨ questa',\n",
       " 'una regola di fatto e di diritto, alla quale non pretendiam',\n",
       " 'punto di sottrarci. Anzi, per conformarci ad essa di buon',\n",
       " 'grado, avevam proposto di dar qui minutamente ragione',\n",
       " 'del modo di scrivere da noi tenuto; e, a questo fine, siamo',\n",
       " \"andati, per tutto il tempo del lavoro, cercando d'indovinaÂ¬\",\n",
       " 're le critiche possibili e contingenti, con intenzione di riÂ¬',\n",
       " 'batterle tutte anticipatamente. NÃ© in questo sarebbe stata',\n",
       " 'la difficoltÃ\\xa0; giacchÃ© (dobbiam dirlo a onor del vero) non',\n",
       " 'ci si presentÃ² alla mente una critica, che non le venisse inÂ¬',\n",
       " 'sieme una risposta trionfante, di quelle risposte che, non',\n",
       " 'dico risolvon le questioni, ma le mutano. Spesso anche,',\n",
       " 'mettendo due critiche alle mani tra loro, le facevam batteÂ¬',\n",
       " \"re l'una dall'altra; o, esaminandole ben a fondo, risconÂ¬\",\n",
       " 'trandole attentamente, riuscivamo a scoprire e a mostrare',\n",
       " \"che, cosÃ¬ opposte in apparenza, eran perÃ² d'uno stesso geÂ¬\",\n",
       " \"nere, nascevan tutt'e due dal non badare ai fatti e ai prinÂ¬\",\n",
       " 'cipi su cui il giudizio doveva esser fondato; e, messele, con',\n",
       " 'loro gran sorpresa, insieme, le mandavamo insieme a',\n",
       " 'spasso. Non ci sarebbe mai stato autore che provasse cosÃ¬',\n",
       " \"ad evidenza d'aver fatto bene. M a che? quando siamo staÂ¬\",\n",
       " 'ti al punto di raccapezzar tutte le dette obiezioni e rispoÂ¬',\n",
       " 'ste, per disporle con qualche ordine, misericordia! venivaÂ¬',\n",
       " 'no a fare un libro. Veduta la qual cosa, abbiam messo da',\n",
       " 'parte il pensiero, per due ragioni che il lettore troverÃ\\xa0 cerÂ¬',\n",
       " 'tamente buone: la prima, che un libro impiegato a giustifiÂ¬',\n",
       " \"carne un altro, anzi lo stile d'un altro, potrebbe parer cosa\",\n",
       " 'ridicola: la seconda, che di libri basta uno per volta, quanÂ¬',\n",
       " \"do non Ã¨ d'avanzo.\",\n",
       " 'Letteratura italiana Einaudi',\n",
       " '4',\n",
       " 'A lessar!Ciro M anzonÃ¬ -1 Promessi sposi',\n",
       " 'CAPITOLO I',\n",
       " 'Q uel ramo del lago di Como, che volge a mezzogiorÂ¬',\n",
       " 'no, tra due catene non interrotte di monti, tutto a seni e',\n",
       " 'a golfi, a seconda dello sporgere e del rientrare di quelli,',\n",
       " 'vien, quasi a un tratto, a ristringersi, e a prender corso e',\n",
       " \"figura di fiume, tra un promontorio a destra, e un'ampia\",\n",
       " \"costiera dall'altra parte; e il ponte, che ivi congiunge le\",\n",
       " \"due rive, par che renda ancor piÃ¹ sensibile all'occhio\",\n",
       " 'questa trasformazione, e segni il punto in cui il lago cesÂ¬',\n",
       " \"sa, e l'Adda rincomincia, per ripigliar poi nome di lago\",\n",
       " \"dove le rive, allontanandosi di nuovo, lascian l'acqua diÂ¬\",\n",
       " 'stendersi e rallentarsi in nuovi golfi e in nuovi seni. La',\n",
       " 'costiera, formata dal deposito di tre grossi torrenti,',\n",
       " \"scende appoggiata a due monti contigui, l'uno detto di\",\n",
       " \"san M artino, l'altro, con voce lombarda, il Resegone, dai\",\n",
       " 'molti suoi cocuzzoli in fila, che in vero lo fanno somiÂ¬',\n",
       " 'gliare a una sega: talchÃ© non Ã¨ chi, al primo vederlo, purÂ¬',\n",
       " 'chÃ© sia di fronte, come per esempio di su le mura di M i-',\n",
       " 'lano che guardano a settentrione, non lo discerna tosto,',\n",
       " 'a un tal contrassegno, in quella lunga e vasta giogaia, daÂ¬',\n",
       " 'gli altri monti di nome piÃ¹ oscuro e di forma piÃ¹ comuÂ¬',\n",
       " 'ne. Per un buon pezzo, la costa sale con un pendÃ¬o lento',\n",
       " 'e continuo; poi si rompe in poggi e in valloncelli, in erte',\n",
       " \"e in ispianate, secondo l'ossatura de' due monti, e il laÂ¬\",\n",
       " \"voro dell'acque. Il lembo estremo, tagliato dalle foci de'\",\n",
       " 'torrenti, Ã¨ quasi tutto ghiaia e ciottoloni; il resto, campi',\n",
       " 'e vigne, sparse di terre, di ville, di casali; in qualche parÂ¬',\n",
       " 'te boschi, che si prolungano su per la montagna. Lecco,',\n",
       " 'la principale di quelle terre, e che dÃ\\xa0 nome al territorio,',\n",
       " 'giace poco discosto dal ponte, alla riva del lago, anzi vieÂ¬',\n",
       " 'ne in parte a trovarsi nel lago stesso, quando questo inÂ¬',\n",
       " \"grossa: un gran borgo al giorno d'oggi, e che s'incammiÂ¬\",\n",
       " 'na a diventar cittÃ\\xa0. Ai tempi in cui accaddero i fatti che',\n",
       " 'prendiamo a raccontare, quel borgo, giÃ\\xa0 considerabile,',\n",
       " 'Letteratura italiana Einaudi',\n",
       " '5',\n",
       " 'A lessandro M anioni -1 Promessi sposi',\n",
       " \"era anche un castello, e aveva perciÃ² l'onore d'alloggiare\",\n",
       " 'un comandante, e il vantaggio di possedere una stabile',\n",
       " 'guarnigione di soldati spagnoli, che insegnavan la modeÂ¬',\n",
       " 'stia alle fanciulle e alle donne del paese, accarezzavan di',\n",
       " 'tempo in tempo le spalle a qualche marito, a qualche paÂ¬',\n",
       " \"dre; e, sul finir dell'estate, non mancavan mai di spanÂ¬\",\n",
       " \"dersi nelle vigne, per diradar l'uve, e alleggerire a' contaÂ¬\",\n",
       " \"dini le fatiche della vendemmia. Dall'una all'altra di\",\n",
       " \"quelle terre, dall'alture alla riva, da un poggio all'altro,\",\n",
       " 'correvano, e corrono tuttavia, strade e stradette, piÃ¹ o',\n",
       " 'men ripide, o piane; ogni tanto affondate, sepolte tra',\n",
       " 'due muri, donde, alzando lo sguardo, non iscoprite che',\n",
       " 'un pezzo di cielo e qualche vetta di monte; ogni tanto',\n",
       " 'elevate su terrapieni aperti: e da qui la vista spazia per',\n",
       " 'prospetti piÃ¹ o meno estesi, ma ricchi sempre e sempre',\n",
       " 'qualcosa nuovi, secondo che i diversi punti piglian piÃ¹ o',\n",
       " 'meno della vasta scena circostante, e secondo che questa',\n",
       " 'o quella parte campeggia o si scorcia, spunta o sparisce a',\n",
       " 'vicenda. Dove un pezzo, dove un altro, dove una lunga',\n",
       " \"distesa di quel vasto e variato specchio dell'acqua; di\",\n",
       " \"qua lago, chiuso all'estremitÃ\\xa0 o piÃ¹ttosto smarrito in un\",\n",
       " 'gruppo, in un andirivieni di montagne, e di mano in maÂ¬',\n",
       " 'no piÃ¹ allargato tra altri monti che si spiegano, a uno a',\n",
       " \"uno, allo sguardo, e che l'acqua riflette capovolti, co'\",\n",
       " 'paesetti posti sulle rive; di lÃ\\xa0 braccio di fiume, poi lago,',\n",
       " 'poi fiume ancora, che va a perdersi in lucido serpeggiaÂ¬',\n",
       " \"mento pur tra' monti che l'accompagnano, degradando\",\n",
       " \"via via, e perdendosi quasi anch'essi nell'orizzonte. Il\",\n",
       " \"luogo stesso da dove contemplate que' vari spettacoli, vi\",\n",
       " 'fa spettacolo da ogni parte: il monte di cui passeggiate le',\n",
       " \"falde, vi svolge, al di sopra, d'intorno, le sue cime e le\",\n",
       " 'balze, distinte, rilevate, mutabili quasi a ogni passo,',\n",
       " \"aprendosi e contornandosi in gioghi ciÃ² che v'era semÂ¬\",\n",
       " 'brato prima un sol giogo, e comparendo in vetta ciÃ² che',\n",
       " \"poco innanzi vi si rappresentava sulla costa: e l'ameno, il\",\n",
       " 'Letteratura italiana Einaudi',\n",
       " '6',\n",
       " 'A lessar!Ciro M anzonÃ¬ -1 Promessi sposi',\n",
       " 'domestico di quelle falde tempera gradevolmente il selÂ¬',\n",
       " \"vaggio, e orna vie piÃ¹ il magnifico dell'altre vedute.\",\n",
       " 'Per una di queste stradicciole, tornava bel bello dalla',\n",
       " 'passeggiata verso casa, sulla sera del giorno 7 novembre',\n",
       " \"dell'anno 1628, don Abbondio, curato d'una delle terre\",\n",
       " 'accennate di sopra: il nome di questa, nÃ© il casato del',\n",
       " 'personaggio, non si trovan nel manoscritto, nÃ© a questo',\n",
       " 'luogo nÃ© altrove. D iceva tranquillamente il suo ufizio, e',\n",
       " \"talvolta, tra un salmo e l'altro, chiudeva il breviario, teÂ¬\",\n",
       " \"nendovi dentro, per segno, l'indice della mano destra, e,\",\n",
       " \"messa poi questa nell'altra dietro la schiena, proseguiva\",\n",
       " 'il suo cammino, guardando a terra, e buttando con un',\n",
       " 'piede verso il muro i ciottoli che facevano inciampo nel',\n",
       " 'sentiero: poi alzava il viso, e, girati oziosamente gli occhi',\n",
       " \"all'intorno, li fissava alla parte d'un monte, dove la luce\",\n",
       " 'del sole giÃ\\xa0 scomparso, scappando per i fessi del monte',\n",
       " 'opposto, si dipingeva qua e lÃ\\xa0 sui massi sporgenti, come',\n",
       " 'a larghe e inuguali pezze di porpora. Aperto poi di nuoÂ¬',\n",
       " 'vo il breviario, e recitato un altro squarcio, giunse a una',\n",
       " \"voltata della stradetta, dov'era solito d'alzar sempre gli\",\n",
       " 'occhi dal libro, e di guardarsi dinanzi: e cosÃ¬ fece anche',\n",
       " 'quel giorno. Dopo la voltata, la strada correva diritta,',\n",
       " 'forse un sessanta passi, e poi si divideva in due viottole,',\n",
       " \"a foggia d'un ipsilon: quella a destra saliva verso il monÂ¬\",\n",
       " \"te, e menava alla cura: l'altra scendeva nella valle fino a\",\n",
       " 'un torrente: e da questa parte il muro non arrivava che',\n",
       " 'al Tanche del passeggierÃ². I muri interni delle due viottoÂ¬',\n",
       " 'le, in vece di riunirsi ad angolo, terminavano in un taÂ¬',\n",
       " 'bernacolo, sul quale eran dipinte certe figure lunghe,',\n",
       " \"serpeggianti, che finivano in punta, e che, nell'intenzion\",\n",
       " \"dell'artista, e agli occhi degli abitanti del vicinato, vole-\",\n",
       " \"van dir fiamme; e, alternate con le fiamme, cert'altre fiÂ¬\",\n",
       " 'gure da non potersi descrivere, che volevan dire anime',\n",
       " 'del purgatorio: anime e fiamme a color di mattone, sur',\n",
       " 'un fondo bigiognolo, con qualche scalcinatura qua e lÃ\\xa0.',\n",
       " \"Il curato, voltata lastradetta, e dirizzando, com'era sol i-\",\n",
       " 'Letteratura italiana Einaudi',\n",
       " '7',\n",
       " 'A lessandro M anioni -1 Promessi sposi',\n",
       " 'to, lo sguardo al tabernacolo, vide una cosa che non',\n",
       " \"s'aspettava, e che non avrebbe voluto vedere. Due uoÂ¬\",\n",
       " \"mini stavano, l'uno dirimpetto all'altro, al confluente,\",\n",
       " 'per dir cosÃ¬, delle due viottole: un di costoro, a cavalcioÂ¬',\n",
       " 'ni sul muricciolo basso, con una gamba spenzolata al di',\n",
       " \"fuori, e l'altro piede posato sul terreno della strada; il\",\n",
       " 'compagno, in piedi, appoggiato al muro, con le braccia',\n",
       " \"incrociate sul petto. L'abito, il portamento, e quello che,\",\n",
       " \"dal luogo ov'era giunto il curato, si poteva distinguer\",\n",
       " \"dell'aspetto, non lasciavan dubbio intorno alla lor conÂ¬\",\n",
       " 'dizione. Avevano entrambi intorno al capo una reticella',\n",
       " \"verde, che cadeva sull'omero sinistro, terminata in una\",\n",
       " 'gran nappa, e dalla quale usciva sulla fronte un enorme',\n",
       " 'ciuffo: due lunghi mustacchi arricciati in punta: una cinÂ¬',\n",
       " 'tura lucida di cuoio, e a quella attaccate due pistole: un',\n",
       " 'piccol corno ripieno di polvere, cascante sul petto, come',\n",
       " 'una collana: un manico di coltellaccio che spuntava fuoÂ¬',\n",
       " \"ri d'un taschino degli ampi e gonfi calzoni: uno spadoÂ¬\",\n",
       " \"ne, con una gran guardia traforata a lamine d'ottone,\",\n",
       " 'congegnate come in cifra, forbite e lucenti: a prima vista',\n",
       " \"si davano a conoscere per individui della specie de' braÂ¬\",\n",
       " 'vi.',\n",
       " 'Questa specie, ora del tutto perduta, era allora floriÂ¬',\n",
       " 'dissima in Lombardia, e giÃ\\xa0 molto antica. Chi non ne',\n",
       " 'avesse idea, ecco alcuni squarci autentici, che potranno',\n",
       " \"darne una bastante de' suoi caratteri principali, degli\",\n",
       " 'sforzi fatti per ispegnerla, e della sua dura e rigogliosa',\n",
       " 'vitalitÃ\\xa0.',\n",
       " \"F ino dall'otto aprile dell'anno 1583, l'I llustrissimo ed\",\n",
       " \"Eccellentissimo signor don Carlo d'Aragon, Principe di\",\n",
       " \"Castelvetrano, D uca di Terranuova, M archese d'Avola,\",\n",
       " 'Conte di Burgeto, grande Ammiraglio, e gran ContestaÂ¬',\n",
       " 'bile di Sicilia, G overnatore di M ilano e Capitan G enera-',\n",
       " 'le di Sua M aestÃ\\xa0 Cattolica in Italia, pienamente informaÂ¬',\n",
       " 'to delia intollerabile miseria in che Ã¨ vivuta e vive questa',\n",
       " 'cittÃ\\xa0 di M ilano, per cagione dei bravi e vagabondi, pubbli-',\n",
       " 'Letteratura italiana Einaudi',\n",
       " '8',\n",
       " 'A lessandro M anioni -1 Promessi sposi',\n",
       " 'ca un bando contro di essi. Dichiara e diffinisce tutti coÂ¬',\n",
       " 'loro essere compresi in questo bando, e doversi ritenere',\n",
       " 'bravi e vagabondi... i quali, essendo forestieri o del paese,',\n",
       " 'non hanno esercizio alcuno, od avendolo, non io fanno...',\n",
       " \"ma, senza salario, o pur con esso, s'appoggiano a qualche\",\n",
       " 'cavaliere o gentiluomo, officiale o mercante... per fargli',\n",
       " 'spalle e favore, o veramente, come si puÃ² presumere, per',\n",
       " 'tendere insidie ad altri... A tutti costoro ordina che, nel',\n",
       " 'termine di giorni sei, abbiano a sgomberare il paese, inÂ¬',\n",
       " \"tima la galera a' renitenti, e dÃ\\xa0 a tutti gli ufiziali della\",\n",
       " 'giustizia le piÃ¹ stranamente ampie e indefinite facoltÃ\\xa0,',\n",
       " \"per l'esecuzione dell'ordine. Ma, nell'anno seguente, il\",\n",
       " '12 aprile, scorgendo il detto signore, che questa CittÃ\\xa0 Ã¨',\n",
       " 'tuttavia piena di detti bravi... tornati a vivere come prima',\n",
       " 'vivevano, non punto mutato il costume loro, nÃ© scemato il',\n",
       " \"numerosa fuori un'altra grida, ancor piÃ¹ vigorosa e noÂ¬\",\n",
       " \"tabile, nella quale, tra l'altre ordinazioni, prescrive:\",\n",
       " 'Che qualsivoglia persona, cosÃ¬ di questa CittÃ\\xa0, come foÂ¬',\n",
       " 'restiera, che per due testimoni consterÃ\\xa0 esser tenuto, e coÂ¬',\n",
       " 'munemente riputato per bravo, et aver tal nome, ancorchÃ©',\n",
       " 'non si verifichi aver fatto delitto alcuno... per questa sola',\n",
       " 'riputazione di bravo, senza altri indizi, possa dai detti giuÂ¬',\n",
       " 'dici e da ognuno di loro esser posto alla corda et al torÂ¬',\n",
       " 'mento, per processo informativo... et ancorchÃ© non confesÂ¬',\n",
       " 'si delitto alcuno, tuttavia sia mandato alla galea, per detto',\n",
       " 'triennio, per la sola opinione e nome di bravo, come di soÂ¬',\n",
       " 'pra. T utto ciÃ², e il di piÃ¹ che si tralascia, perchÃ© Sua EcÂ¬',\n",
       " 'cellenza Ã¨ risoluta di voler essere obbedita da ognuno.',\n",
       " \"A N'udir parole d'un tanto signore, cosÃ¬ gagliarde e siÂ¬\",\n",
       " 'cure, e accompagnate da tali ordini, viene una gran voÂ¬',\n",
       " 'glia di credere che, al solo rimbombo di esse, tutti i braÂ¬',\n",
       " 'vi siano scomparsi per sempre. Ma la testimonianza',\n",
       " \"d'un signore non meno autorevole, nÃ© meno dotato di\",\n",
       " 'nomi, ci obbliga a credere tutto il contrario. Ãˆ questi',\n",
       " \"l'Illustrissimo ed Eccellentissimo Signor Juan Fernan-\",\n",
       " 'dez de Velasco, Contestabile di Castiglia, Cameriero',\n",
       " 'Letteratura italiana Einaudi',\n",
       " '9',\n",
       " 'A lessandro M anioni -1 Promessi sposi',\n",
       " 'maggiore di Sua M aestÃ\\xa0, Duca della CittÃ\\xa0 di Frias, ConÂ¬',\n",
       " 'tedi H aro eCastelnovo, Signore della Casa di Velasco, e',\n",
       " 'di quella del li sette Infanti di Lara, G overnatore dello',\n",
       " \"Stato di Milano, etc. Il 5 giugno dell'anno 1593, pienaÂ¬\",\n",
       " 'mente informato anche lui di quanto danno e rovine sie-',\n",
       " 'no... i bravi e vagabondi, e del pessimo effetto che tal sorÂ¬',\n",
       " 'ta di gente, fa contra il ben pubblico, et in delusione della',\n",
       " 'giustizia, intima loro di nuovo che, nel termine di giorni',\n",
       " 'sei, abbiano a sbrattare il paese, ripetendo a un dipresso',\n",
       " 'le prescrizioni e le minacce medesime del suo predecesÂ¬',\n",
       " \"sore. Il 23 maggio poi dell'anno 1598, informato, con\",\n",
       " \"non poco dispiacere dell'animo suo, che... ogni dÃ¬ piÃ¹ in\",\n",
       " 'questa CittÃ\\xa0 e Stato va crescendo il numero di questi taÂ¬',\n",
       " 'li! bravi e vagabondi), nÃ© di loro, giorno e notte, altro si',\n",
       " 'sente che ferite appostatamente date, omicidii e ruberie et',\n",
       " 'ogni altra qualitÃ\\xa0 di delitti, ai quali si rendono piÃ¹ facili,',\n",
       " \"confidati essi bravi d'essere aiutati dai capi e fautori loro...\",\n",
       " 'prescrive di nuovo gli stessi rimedi, accrescendo la dose,',\n",
       " \"come s'usa nelle malattie ostinate. Ognuno dunque, conÂ¬\",\n",
       " 'chiude poi, onninamente si guardi di contravvenire in',\n",
       " 'parte alcuna alla grida presente, perchÃ©, in luogo di provaÂ¬',\n",
       " 're la clemenza di Sua Eccellenza, proverÃ\\xa0 il rigore, e lâ€™ira',\n",
       " \"sua... essendo risoluta e determinata che questa sia l'ultiÂ¬\",\n",
       " 'ma e perentoria monizione.',\n",
       " \"N on fu perÃ² di questo parere l'Illustrissimo ed EccelÂ¬\",\n",
       " 'lentissimo Signore, il Signor Don Pietro Enriquez de',\n",
       " 'Acevedo, Contedi Fuentes, Capitano, e Governatore',\n",
       " 'dello Stato di M ilano; non fu di questo parere, e per',\n",
       " 'buone ragioni. Pienamente informato della miseria in che',\n",
       " 'vive questa CittÃ\\xa0 e Stato per cagione del gran numero di',\n",
       " 'bravi che in esso abbonda... e risoluto di totalmente estirÂ¬',\n",
       " 'pare seme tanto pernizioso, dÃ\\xa0 fuori, il 5 decembre 1600,',\n",
       " \"una nuova grida piena anch'essa di severissime commi-\",\n",
       " 'nazioni, con fermo proponimento che, con ogni rigore, e',\n",
       " 'senza speranza di remissione, siano onninamente',\n",
       " 'eseguite.',\n",
       " 'Letteratura italiana Einaudi',\n",
       " 'A lessandro M anioni -1 Promessi sposi',\n",
       " 'Convien credere perÃ² che non ci si mettesse con tutta',\n",
       " \"quella buona voglia che sapeva impiegare nell'ordir caÂ¬\",\n",
       " 'bale, e nel suscitar nemici al suo gran nemico E nrico IV;',\n",
       " 'giacchÃ©, per questa parte, la storia attesta come riuscisse',\n",
       " 'ad armare contro quel re il duca di Savoia, a cui fece',\n",
       " \"perder piÃ¹ d'una cittÃ\\xa0; come riuscisse a far congiurare il\",\n",
       " 'duca di Biron, a cui fece perder la testa; ma, per ciÃ² che',\n",
       " \"riguarda quel seme tanto pernizioso de' bravi, certo Ã¨\",\n",
       " 'che esso continuava a germogliare, il 22 settembre',\n",
       " \"dell'anno 1612. In quel giorno l'Illustrissimo ed EccelÂ¬\",\n",
       " 'lentissimo Signore, il Signor Don G iovanni de M endoz-',\n",
       " 'za, M archese de la H ynojosa, G entiluomo etc., G over-',\n",
       " 'natore etc., pensÃ² seriamente ad estirparlo. A',\n",
       " \"quest'effetto, spedÃ¬ a Pandolfo e M arcoTullio M alatesti,\",\n",
       " 'stampatori regii camerali, la solita grida, corretta ed acÂ¬',\n",
       " \"cresciuta, perchÃ© la stampassero ad esterminio de' bravi.\",\n",
       " 'M a questi vissero ancora per ricevere, il 24 decembre',\n",
       " \"dell'anno 1618, gli stessi e piÃ¹ forti colpi dallâ€™IllustrissiÂ¬\",\n",
       " 'mo ed Eccellentissimo Signore, il Signor Don Gomez',\n",
       " 'Suarez de Figueroa, D uca di Feria, etc., G overnatore',\n",
       " 'etc. PerÃ², non essendo essi morti neppur di quelli, lâ€™I llu-',\n",
       " 'strissimo ed Eccellentissimo Signore, il Signor Gonzalo',\n",
       " 'Fernandez di Cordova, sotto il cui governo accadde la',\n",
       " \"passeggiata di don Abbondio, s'era trovato costretto a\",\n",
       " 'ricorreggere e ripubblicare la solita grida contro i bravi,',\n",
       " 'il giorno 5 ottobre del 1627, cioÃ¨ un anno, un mese e',\n",
       " 'due giorni prima di quel memorabile avvenimento.',\n",
       " \"N Ã© fu questa l'ultima pubblicazione; ma noi delle poÂ¬\",\n",
       " 'steriori non crediamo dover far menzione, come di cosa',\n",
       " 'che esce dal periodo della nostra storia. N e accennereÂ¬',\n",
       " \"mo soltanto una del 13 febbraio dell'anno 1632, nella\",\n",
       " \"quale l'Illustrissimo ed Eccellentissimo Signore, el Du-\",\n",
       " 'que de Feria, per la seconda volta governatore, ci avvisa',\n",
       " 'che le maggiori sceleraggini procedono da quelli che chiaÂ¬',\n",
       " 'mano bravi. Q uesto basta ad assicurarci che, nel tempo',\n",
       " \"di cui noi trattiamo, c'era de' bravi tuttavia.\",\n",
       " 'Letteratura italiana Einaudi',\n",
       " 'A lessandro M anioni -1 Promessi sposi',\n",
       " 'Che i due descritti di sopra stessero ivi ad aspettar',\n",
       " 'qualcheduno, era cosa troppo evidente; ma quel che piÃ¹',\n",
       " 'dispiacque a don Abbondio fu il dover accorgersi, per',\n",
       " \"certi atti, che l'aspettato era lui. PerchÃ©, al suo apparire,\",\n",
       " \"coloro s'eran guardati in viso, alzando la testa, con un\",\n",
       " \"movimento dal quale si scorgeva che tutt'e due a un tratÂ¬\",\n",
       " \"to avevan detto: Ã¨ lui; quello che stava a cavalcioni s'era\",\n",
       " \"alzato, tirando la sua gamba sulla strada; l'altro s'era\",\n",
       " \"staccato dal muro; e tutt'e due gli s'avviavano incontro.\",\n",
       " 'Egli, tenendosi sempre il breviario aperto dinanzi, come',\n",
       " 'se leggesse, spingeva lo sguardo in su, per ispiar le mosÂ¬',\n",
       " 'se di coloro; e, vedendoseli venir proprio incontro, fu',\n",
       " 'assalito a un tratto da mille pensieri. DomandÃ² subito in',\n",
       " 'fretta a se stesso, se, tra i bravi e lui, ci fosse qualche',\n",
       " 'uscita di strada, a destra o a sinistra; egli sovvenne subiÂ¬',\n",
       " 'to di no. Fece un rapido esame, se avesse peccato contro',\n",
       " 'qualche potente, contro qualche vendicativo; ma, anche',\n",
       " 'in quel turbamento, il testimonio consolante della coÂ¬',\n",
       " \"scienza lo rassicurava alquanto: i bravi perÃ² s'avvicinaÂ¬\",\n",
       " \"vano, guardandolo fisso. M ise l'indice e il medio della\",\n",
       " 'mano sinistra nel collare, come per raccomodarlo; e, giÂ¬',\n",
       " 'rando le due dita intorno al collo, volgeva intanto la facÂ¬',\n",
       " \"cia all'indietro, torcendo insieme la bocca, e guardando\",\n",
       " \"con la coda dell'occhio, fin dove poteva, se qualcheduno\",\n",
       " \"arrivasse; ma non vide nessuno. D iede un'occhiata, al di\",\n",
       " \"sopra del muricciolo, ne' campi: nessuno; un'altra piÃ¹\",\n",
       " 'modesta sulla strada dinanzi; nessuno, fuorchÃ© i bravi.',\n",
       " 'Che fare? tornare indietro, non era a tempo: darla a',\n",
       " 'gambe, era lo stesso che dire, inseguitemi, o peggio.',\n",
       " 'N on potendo schivare il pericolo, vi corse incontro, perÂ¬',\n",
       " \"chÃ© i momenti di quell'incertezza erano allora cosÃ¬ penoÂ¬\",\n",
       " \"si per lui, che non desiderava altro che d'abbreviarli. AfÂ¬\",\n",
       " 'frettÃ² il passo, recitÃ² un versetto a voce piÃ¹ alta,',\n",
       " 'compose la faccia a tutta quella quiete e ilaritÃ\\xa0 che potÃ¨,',\n",
       " 'fece ogni sforzo per preparare un sorriso; quando si',\n",
       " 'Letteratura italiana Einaudi',\n",
       " 'A lessandro M anioni -1 Promessi sposi',\n",
       " 'trovÃ² a fronte dei due galantuomini, disse mentalmente:',\n",
       " 'ci siamo: e si fermÃ² su due piedi.',\n",
       " \"- Signor curato, - disse un di que' due, piantandogli\",\n",
       " 'gli occhi in faccia.',\n",
       " '- Cosa comanda? - rispose subito don Abbondio, alÂ¬',\n",
       " 'zando i suoi dal libro, che gli restÃ² spalancato nelle maÂ¬',\n",
       " 'ni, come sur un leggÃ¬o.',\n",
       " \"- Lei ha intenzione, - proseguÃ¬ l'altro, con l'atto miÂ¬\",\n",
       " 'naccioso eiracondo di chi coglieun suo inferiore sul lâ€™inÂ¬',\n",
       " 'traprendere una ribalderia, - lei ha intenzione di maritar',\n",
       " 'domani Renzo Tramaglino e Lucia M ondella!',\n",
       " '- CioÃ¨... - rispose, con voce tremolante, don AbbonÂ¬',\n",
       " 'dio: - cioÃ¨. Lor signori son uomini di mondo, e sanno',\n",
       " 'benissimo come vanno queste faccende. Il povero curaÂ¬',\n",
       " \"to non c'entra: fanno i loro pasticci tra loro, e poi... e\",\n",
       " \"poi, vengon da noi, come s'anderebbe a un banco a ri-\",\n",
       " 'scotere: e noi... noi siamo i servitori del comune.',\n",
       " \"- 0 r bene, - gli disse il bravo, all'orecchio, ma in toÂ¬\",\n",
       " \"no solenne di comando, - questo matrimonio non s'ha\",\n",
       " 'da fare, nÃ© domani, nÃ© mai.',\n",
       " '-Ma, signori miei, - replicÃ² don Abbondio, con la',\n",
       " 'voce mansueta e gentile di chi vuol persuadere un impaÂ¬',\n",
       " \"ziente, - ma, signori miei, si degnino di mettersi ne' miei\",\n",
       " 'panni. Se la cosa dipendesse da me,... vedon bene che a',\n",
       " 'me non me ne vien nulla in tasca...',\n",
       " '- 0 rsÃ¹, - interruppe il bravo, - se la cosa avesse a deÂ¬',\n",
       " 'cidersi a ciarle, lei ci metterebbe in sacco. Noi non ne',\n",
       " 'sappiamo, nÃ©vogliam saperne di piÃ¹. Uomo avvertito...',\n",
       " \"lei c'intende.\",\n",
       " '- M a lor signori son troppo giusti, troppo ragionevoÂ¬',\n",
       " 'li...',\n",
       " \"-Ma,- interruppe questa volta l'altro compagnone,\",\n",
       " 'che non aveva parlato fin allora, - ma il matrimonio non',\n",
       " 'si farÃ\\xa0, o... - e qui una buona bestemmia, - o chi lo farÃ',\n",
       " 'non se ne pentirÃ\\xa0, perchÃ© non ne avrÃ\\xa0 tempo, e... -',\n",
       " \"un'altra bestemmia.\",\n",
       " 'Letteratura italiana Einaudi',\n",
       " 'A lessandro M anioni -1 Promessi sposi',\n",
       " '- Zitto, zitto, - riprese il primo oratore: - il signor cuÂ¬',\n",
       " 'rato Ã¨ un uomo che sa il viver del mondo; e noi siam gaÂ¬',\n",
       " 'lantuomini, che non vogliam fargli del male, purchÃ© abÂ¬',\n",
       " \"bia giudizio. Signor curato, l'illustrissimo signor don\",\n",
       " 'Rodrigo nostro padrone la riverisce caramente.',\n",
       " 'Q uesto nome fu, nella mente di don Abbondio, coÂ¬',\n",
       " \"me, nel forte d'un temporale notturno, un lampo che ilÂ¬\",\n",
       " 'lumina momentaneamente e in confuso gli oggetti, e acÂ¬',\n",
       " 'cresce il terrore. Fece, come per istinto, un',\n",
       " \"grand'inchino, e disse: - se mi sapessero suggerire...\",\n",
       " '-Oh! suggerire a lei che sa di latino! - interruppe anÂ¬',\n",
       " 'cora il bravo, con un riso tra lo sguaiato e il feroce. - A',\n",
       " 'lei tocca. E sopra tutto, non si lasci uscir parola su queÂ¬',\n",
       " 'sto avviso che le abbiam dato per suo bene; altrimenti...',\n",
       " 'ehm... sarebbe lo stesso che fare quel tal matrimonio.',\n",
       " \"Via, che vuol che si dica in suo nome all'illustrissimo siÂ¬\",\n",
       " 'gnor don Rodrigo?',\n",
       " '- Il mio rispetto...',\n",
       " '- Si spieghi meglio!',\n",
       " '-... Disposto... disposto sempre allâ€™ubbidienza -. E,',\n",
       " 'proferendo queste parole, non sapeva nemmen lui se faÂ¬',\n",
       " 'ceva una promessa, o un complimento. I bravi le preseÂ¬',\n",
       " 'ro, o mostraron di prenderle nel significato piÃ¹ serio.',\n",
       " \"- Benissimo, e buona notte, messere, - disse l'un d'esÂ¬\",\n",
       " 'si, in atto di partir col compagno. Don Abbondio, che,',\n",
       " 'pochi momenti prima, avrebbe dato un occhio per',\n",
       " 'iscansarli, allora avrebbe voluto prolungar la conversaÂ¬',\n",
       " 'zione e le trattative. - Signori... - cominciÃ², chiudendo il',\n",
       " 'libro con le due mani; ma quelli, senza piÃ¹ dargli udienÂ¬',\n",
       " \"za, presero la strada dond'era lui venuto, e s'allontanaÂ¬\",\n",
       " 'rono, cantando una canzonacela che non voglio trascriÂ¬',\n",
       " 'vere. Il povero don Abbondio rimase un momento a',\n",
       " 'bocca aperta, come incantato; poi prese quella delle due',\n",
       " 'stradette che conduceva a casa sua, mettendo innanzi a',\n",
       " \"stento una gamba dopo l'altra, che parevano aggranÂ¬\",\n",
       " \"chiate. Come stesse di dentro, s'intenderÃ\\xa0 meglio, quan-\",\n",
       " 'Letteratura italiana Einaudi 14',\n",
       " 'A lessar!Ciro M anzonÃ¬ -1 Promessi sposi',\n",
       " \"do avrem detto qualche cosa del suo naturale, e de' temÂ¬\",\n",
       " 'pi in cui gli era toccato di vivere.',\n",
       " \"Don Abbondio (il lettore se n'Ã¨ giÃ\\xa0 avveduto) non era\",\n",
       " \"nato con un cuor di leone. Ma, fin da' primi suoi anni,\",\n",
       " 'aveva dovuto comprendere che la peggior condizione, a',\n",
       " \"que' tempi, era quella d'un animale senza artigli e senza\",\n",
       " \"zanne, e che pure non si sentisse inclinazione d'esser diÂ¬\",\n",
       " 'vorato. La forza legale non proteggeva in alcun conto',\n",
       " \"l'uomo tranquillo, inoffensivo, e che non avesse altri\",\n",
       " 'mezzi di far paura altrui. N on giÃ\\xa0 che mancassero leggi e',\n",
       " 'pene contro le violenze private. Le leggi anzi diluviavaÂ¬',\n",
       " 'no; i delitti erano enumerati, e particolareggiati, con miÂ¬',\n",
       " 'nuta prolissitÃ\\xa0; le pene, pazzamente esorbitanti e, se non',\n",
       " 'basta, aumentabili, quasi per ogni caso, ad arbitrio del',\n",
       " 'legislatore stesso e di cento esecutori; le procedure, stuÂ¬',\n",
       " 'diate soltanto a liberare il giudice da ogni cosa che poÂ¬',\n",
       " \"tesse essergli d'impedimento a proferire una condanna:\",\n",
       " 'gli squarci cheabbiam riportati delle gride contro i braÂ¬',\n",
       " 'vi, ne sono un piccolo, ma fedel saggio. Con tutto ciÃ²,',\n",
       " 'anzi in gran parte a cagion di ciÃ², quelle gride, ripubbliÂ¬',\n",
       " 'cate e rinforzate di governo in governo, non servivano',\n",
       " \"ad altro che ad attestare ampollosamente l'impotenza\",\n",
       " \"de' loro autori; o, se producevan qualche effetto immeÂ¬\",\n",
       " \"diato, era principalmente d'aggiunger molte vessazioni a\",\n",
       " \"quelle che i pacifici e i deboli giÃ\\xa0 soffrivano da' perturÂ¬\",\n",
       " \"batori, e d'accrescer le violenze e l'astuzia di questi.\",\n",
       " \"L'impunitÃ\\xa0 era organizzata, e aveva radici che le gride\",\n",
       " 'non toccavano, o non potevano smovere. Tali eran gli',\n",
       " \"asili, tali i privilegi d'alcune classi, in parte riconosciuti\",\n",
       " 'dalla forza legale, in parte tollerati con astioso silenzio, o',\n",
       " 'impugnati con vane proteste, ma sostenuti in fatto e diÂ¬',\n",
       " \"fesi da quelle classi, con attivitÃ\\xa0 d'interesse, e con gelosia\",\n",
       " \"di puntiglio. 0 ra, quest'impunitÃ\\xa0 minacciata e insultata,\",\n",
       " 'ma non distrutta dalle gride, doveva naturalmente, a',\n",
       " 'ogni minaccia, e a ogni insulto, adoperar nuovi sforzi e',\n",
       " 'nuove invenzioni, per conservarsi. CosÃ¬ accadeva in ef-',\n",
       " 'Letteratura italiana Einaudi',\n",
       " 'A lessandro M anioni -1 Promessi sposi',\n",
       " \"fetto; e, all'apparire delle gride dirette a comprimere i\",\n",
       " 'violenti, questi cercavano nella loro forza reale i nuovi',\n",
       " 'mezzi piÃ¹ opportuni, per continuare a far ciÃ² che le griÂ¬',\n",
       " 'de venivano a proibire. Potevan ben esse inceppare a',\n",
       " \"ogni passo, e molestare l'uomo bonario, che fosse senza\",\n",
       " \"forza propria e senza protezione; perchÃ©, col fine d'aver\",\n",
       " 'sotto la mano ogni uomo, per prevenire o per punire',\n",
       " 'ogni delitto, assoggettavano ogni mossa del privato al',\n",
       " \"volere arbitrario d'esecutori d'ogni genere. M a chi, priÂ¬\",\n",
       " 'ma di commettere il delitto, aveva prese le sue misure',\n",
       " 'per ricoverarsi a tempo in un convento, in un palazzo,',\n",
       " 'dove i birri non avrebber mai osato metter piede; chi,',\n",
       " \"senz'altre precauzioni, portava una livrea che impegnasÂ¬\",\n",
       " \"se a difenderlo la vanitÃ\\xa0 e l'interesse d'una famiglia poÂ¬\",\n",
       " 'tente, di tutto un ceto, era libero nelle sue operazioni, e',\n",
       " 'poteva ridersi di tutto quel fracasso delle gride. Di queÂ¬',\n",
       " \"gli stessi ch'eran deputati a farle eseguire, alcuni apparÂ¬\",\n",
       " 'tenevano per nascita alla parte privilegiata, alcuni ne diÂ¬',\n",
       " 'pendevano per clientela; gli uni e gli altri, per',\n",
       " 'educazione, per interesse, per consuetudine, per imitaÂ¬',\n",
       " 'zione, ne avevano abbracciate le massime, e si sarebbero',\n",
       " \"ben guardati dall'offenderle, per amor d'un pezzo di\",\n",
       " 'carta attaccato sulle cantonate. G li uomini poi incaricati',\n",
       " \"dell'esecuzione immediata, quando fossero stati intraÂ¬\",\n",
       " 'prendenti come eroi, ubbidienti come monaci, e pronti',\n",
       " 'a sacrificarsi come martiri, non avrebber perÃ² potuto veÂ¬',\n",
       " \"nirne alla fine, inferiori com'eran di numero a quelli che\",\n",
       " 'si trattava di sottomettere, e con una gran probabilitÃ',\n",
       " \"d'essere abbandonati da chi, in astratto e, per cosÃ¬ dire,\",\n",
       " 'in teoria, imponeva loro di operare. M a, oltre di ciÃ², coÂ¬',\n",
       " \"storo eran generalmente de' piÃ¹ abbietti e ribaldi sogÂ¬\",\n",
       " \"getti del loro tempo; l'incarico loro era tenuto a vile anÂ¬\",\n",
       " 'che da quelli che potevano averne terrore, e il loro titolo',\n",
       " 'un improperio. Era quindi ben naturale che costoro, in',\n",
       " \"vece d'arrischiare, anzi di gettar la vita in un'impresa diÂ¬\",\n",
       " 'sperata, vendessero la loro inazione, o anche la loro con-',\n",
       " 'Letteratura italiana Einaudi 16',\n",
       " 'A lessandro M anioni -1 Promessi sposi',\n",
       " 'nivenza ai potenti, e si riservassero a esercitare la loro',\n",
       " 'esecrata autoritÃ\\xa0 e la forza che pure avevano, in quelle',\n",
       " \"occasioni dove non c'era pericolo; nell'opprimer cioÃ¨, e\",\n",
       " 'nel vessare gli uomini pacifici e senza difesa.',\n",
       " \"L'uomo che vuole offendere, o che teme, ogni moÂ¬\",\n",
       " \"mento, d'essere offeso, cerca naturalmente alleati e comÂ¬\",\n",
       " \"pagni. Quindi era, in que' tempi, portata al massimo\",\n",
       " \"punto la tendenza degl'individui a tenersi collegati in\",\n",
       " 'classi, a formarne delle nuove, e a procurare ognuno la',\n",
       " 'maggior potenza di quella a cui apparteneva. 11 clero veÂ¬',\n",
       " 'gliava a sostenere e ad estendere le sue immunitÃ\\xa0, la noÂ¬',\n",
       " 'biltÃ\\xa0 i suoi privilegi, il militare le sue esenzioni. I merÂ¬',\n",
       " 'canti, gli artigiani erano arrolati in maestranze e in',\n",
       " 'confraternite, i giurisperiti formavano una lega, i medici',\n",
       " 'stessi una corporazione. 0 gnuna di queste piccole oliÂ¬',\n",
       " 'garchie aveva una sua forza speciale e propria; in ognuÂ¬',\n",
       " \"na l'individuo trovava il vantaggio d'impiegar per sÃ©, a\",\n",
       " 'proporzione della sua autoritÃ\\xa0 e della sua destrezza, le',\n",
       " 'forze riunite di molti. I piÃ¹ onesti si valevan di questo',\n",
       " 'vantaggio a difesa soltanto; gli astuti e i facinorosi ne apÂ¬',\n",
       " 'profittavano, per condurre a termine ribalderie, alle',\n",
       " 'quali i loro mezzi personali non sarebber bastati, e per',\n",
       " \"assicurarsene l'impunitÃ\\xa0. Le forze perÃ² di queste varie\",\n",
       " 'leghe eran molto disuguali; e, nelle campagne principalÂ¬',\n",
       " 'mente, il nobile dovizioso e violento, con intorno uno',\n",
       " 'stuolo di bravi, e una popolazione di contadini avvezzi,',\n",
       " 'per tradizione famigliare, e interessati o forzati a riguarÂ¬',\n",
       " 'darsi quasi come sudditi e soldati del padrone, esercitaÂ¬',\n",
       " \"va un potere, a cui difficilmente nessun'altra frazione di\",\n",
       " 'lega avrebbe ivi potuto resistere.',\n",
       " '11 nostro Abbondio non nobile, non ricco, coraggioso',\n",
       " \"ancor meno, s'era dunque accorto, prima quasi di toccar\",\n",
       " \"gli anni della discrezione, d'essere, in quella societÃ\\xa0, coÂ¬\",\n",
       " 'me un vaso di terra cotta, costretto a viaggiare in comÂ¬',\n",
       " 'pagnia di molti vasi di ferro. Aveva quindi, assai di buon',\n",
       " 'grado, ubbidito ai parenti, che lo vollero prete. Per dir',\n",
       " 'Letteratura italiana Einaudi',\n",
       " 'A lessandro M anioni -1 Promessi sposi',\n",
       " 'la veritÃ\\xa0, non aveva gran fatto pensato agli obblighi e ai',\n",
       " 'nobili fini del ministero al quale si dedicava: procacciarÂ¬',\n",
       " 'si di che vivere con qualche agio, e mettersi in una classe',\n",
       " 'riverita e forte, gli eran sembrate due ragioni piÃ¹ che',\n",
       " 'sufficienti per una tale scelta. M a una classe qualunque',\n",
       " 'non protegge un individuo, non lo assicura, chefino a',\n",
       " 'un certo segno: nessuna lo dispensa dal farsi un suo siÂ¬',\n",
       " 'stema particolare. Don Abbondio, assorbito continua-',\n",
       " \"mente ne' pensieri della propria quiete, non si curava di\",\n",
       " \"que' vantaggi, per ottenere i quali facesse bisogno\",\n",
       " \"d'adoperarsi molto, o d'arrischiarsi un poco. 11 suo sisteÂ¬\",\n",
       " 'ma consisteva principalmente nello scansar tutti i conÂ¬',\n",
       " 'trasti, e nel cedere, in quelli che non poteva scansare.',\n",
       " 'N eutralitÃ\\xa0 disarmata in tutte le guerre che scoppiavano',\n",
       " 'intorno a lui, dalle contese, allora frequentissime, tra il',\n",
       " 'clero e le podestÃ\\xa0 laiche, tra il militare e il civile, tra noÂ¬',\n",
       " 'bili e nobili, fino alle questioni tra due contadini, nate',\n",
       " 'da una parola, e decise coi pugni, o con le coltellate. Se',\n",
       " 'si trovava assolutamente costretto a prender parte tra',\n",
       " 'due contendenti, stava col piÃ¹ forte, sempre perÃ² alla reÂ¬',\n",
       " \"troguardia, e procurando di far vedere all'altro ch'egli\",\n",
       " 'non gli era volontariamente nemico: pareva che gli diÂ¬',\n",
       " 'cesse: ma perchÃ© non avete saputo esser voi il piÃ¹ forte?',\n",
       " \"ch'io mi sarei messo dalla vostra parte. Stando alla larga\",\n",
       " \"da' prepotenti, dissimulando le loro soverchierie passegÂ¬\",\n",
       " 'gere e capricciose, corrispondendo con sommissioni a',\n",
       " \"quelle che venissero da un'intenzione piÃ¹ seria e piÃ¹ meÂ¬\",\n",
       " \"ditata, costringendo, a forza d'inchini e di rispetto gioÂ¬\",\n",
       " 'viale, anche i piÃ¹ burberi e sdegnosi, a fargli un sorriso,',\n",
       " \"quando gl'incontrava per la strada, il poveruomo era\",\n",
       " 'riuscito a passare i sessantanni, senza gran burrasche.',\n",
       " \"N on Ã¨ perÃ² che non avesse anche lui il suo po' di fiele\",\n",
       " 'in corpo; e quel continuo esercitar la pazienza, quel dar',\n",
       " \"cosÃ¬ spesso ragione agli altri, que' tanti bocconi amari\",\n",
       " 'inghiottiti in silenzio, glielo avevano esacerbato a segno',\n",
       " 'che, se non avesse, di tanto in tanto, potuto dargli un',\n",
       " 'Letteratura italiana Einaudi 18',\n",
       " 'A lessandro M anzonÃ¬ -1 Promessi sposi',\n",
       " \"po' di sfogo, la sua salute n'avrebbe certamente sofferto.\",\n",
       " \"M a siccome v'eran poi finalmente al mondo, e vicino a\",\n",
       " \"lui, persone ch'egli conosceva ben bene per incapaci di\",\n",
       " 'far male, cosÃ¬ poteva con quelle sfogare qualche volta il',\n",
       " 'mal umore lungamente represso, e cavarsi anche lui la',\n",
       " \"voglia d'essere un po' fantastico, e di gridare a torto. E ra\",\n",
       " 'poi un rigido censore degli uomini che non si regolavan',\n",
       " 'come lui, quando perÃ² la censura potesse esercitarsi senÂ¬',\n",
       " 'za alcuno, anche lontano, pericolo. 11 battuto era almeno',\n",
       " \"un imprudente; l'ammazzato era sempre stato un uomo\",\n",
       " 'torbido. A chi, messosi a sostener le sue ragioni contro',\n",
       " 'un potente, rimaneva col capo rotto, don Abbondio saÂ¬',\n",
       " 'peva trovar sempre qualche torto; cosa non difficile,',\n",
       " 'perchÃ© la ragione e il torto non si dividon mai con un taÂ¬',\n",
       " \"glio cosÃ¬ netto, che ogni parte abbia soltanto dell'una o\",\n",
       " \"dell'altro. Sopra tutto poi, declamava contro que' suoi\",\n",
       " \"confratelli che, a loro rischio, prendevan le parti d'un\",\n",
       " 'debole oppresso, contro un soverchiatore potente. Q ue-',\n",
       " \"sto chiamava un comprarsi gl'impicci a contanti, un voÂ¬\",\n",
       " 'ler raddirizzar le gambe ai cani; diceva anche severaÂ¬',\n",
       " \"mente, ch'era un mischiarsi nelle cose profane, a danno\",\n",
       " 'della dignitÃ\\xa0 del sacro ministero. E contro questi prediÂ¬',\n",
       " \"cava, sempre perÃ² a quattr'occhi, o in un piccolissimo\",\n",
       " 'crocchio, con tanto piÃ¹ di veemenza, quanto piÃ¹ essi',\n",
       " 'eran conosciuti per alieni dal risentirsi, in cosa che li',\n",
       " 'toccasse personalmente. Aveva poi una sua sentenza',\n",
       " 'prediletta, con la quale sigillava sempre i discorsi su',\n",
       " 'queste materie: che a un galantuomo, il qual badi a sÃ©, e',\n",
       " \"stia ne' suoi panni, non accadon mai brutti incontri.\",\n",
       " 'Pensino ora i miei venticinque lettori che impressione',\n",
       " \"dovesse fare sull'animo del poveretto, quello che s'Ã¨ racÂ¬\",\n",
       " \"contato. Lo spavento di que' visacci e di quelle parolacÂ¬\",\n",
       " \"ce, la minaccia d'un signore noto per non minacciare inÂ¬\",\n",
       " \"vano, un sistema di quieto vivere, ch'era costato\",\n",
       " \"tant'anni di studio e di pazienza, sconcertato in un punÂ¬\",\n",
       " 'to, e un passo dal quale non si poteva veder come uscir-',\n",
       " 'Letteratura italiana Einaudi',\n",
       " 'A lessandro M anioni -1 Promessi sposi',\n",
       " 'ne: tutti questi pensieri ronzavano tumultuariamente nel',\n",
       " 'capo basso di don Abbondio. Â«Se Renzo si potesse manÂ¬',\n",
       " 'dare in pace con un bel no, via; ma vorrÃ\\xa0 delle ragioni; e',\n",
       " 'cosa ho da rispondergli, per amor del cielo? E, e, e, anÂ¬',\n",
       " 'che costui Ã¨ una testa: un agnello se nessun lo tocca, ma',\n",
       " 'se uno vuol contraddirgli... ih! E poi, e poi, perduto dieÂ¬',\n",
       " 'tro a quella Lucia, innamorato come... Ragazzacci, che,',\n",
       " \"per non saper chetare, s'innamorano, voglion maritarsi,\",\n",
       " \"e non pensano ad altro; non si fanno carico de' travagli\",\n",
       " 'in che mettono un povero galantuomo. Oh povero me!',\n",
       " 'vedete se quel le due figuracce dovevan proprio piantarsi',\n",
       " \"sulla mia strada, e prenderla con me! Che c'entro io?\",\n",
       " 'Son io che voglio maritarmi? PerchÃ© non son andati',\n",
       " 'piuttosto a parlare... 0 h vedete un poco: gran destino Ã¨',\n",
       " 'il mio, che le cose a proposito mi vengan sempre in',\n",
       " \"mente un momento dopo l'occasione. Se avessi pensato\",\n",
       " 'di suggerir loro che andassero a portar la loro imbasciaÂ¬',\n",
       " \"ta... Â«M a, a questo punto, s'accorse che il pentirsi di non\",\n",
       " \"essere stato consigliere e cooperatore dell'iniquitÃ\\xa0 era\",\n",
       " \"cosa troppo iniqua; e rivolse tutta la stizza de' suoi penÂ¬\",\n",
       " \"sieri contro quell'altro che veniva cosÃ¬ a togliergli la sua\",\n",
       " 'pace. N on conosceva don Rodrigo che di vista e di fama,',\n",
       " 'nÃ© aveva mai avuto che far con lui, altro che di toccare il',\n",
       " 'petto col mento, e la terra con la punta del suo cappello,',\n",
       " \"quelle poche volte che l'aveva incontrato per la strada.\",\n",
       " \"G li era occorso di difendere, in piÃ¹ d'un'occasione, la riÂ¬\",\n",
       " 'putazione di quel signore, contro coloro che, a bassa voÂ¬',\n",
       " 'ce, sospirando, e alzando gli occhi al cielo, maledicevaÂ¬',\n",
       " \"no qualche suo fatto: aveva detto cento volte ch'era un\",\n",
       " 'rispettabile cavaliere. M a, in quel momento gli diede in',\n",
       " \"cuor suo tutti que' titoli che non aveva mai udito appliÂ¬\",\n",
       " 'cargli da altri, senza interrompere in fretta con un oibÃ².',\n",
       " 'G iunto, tra il tumulto di questi pensieri, alla porta di caÂ¬',\n",
       " \"sa sua, ch'era in fondo del paesello, mise in fretta nella\",\n",
       " 'toppa la chiave, che giÃ\\xa0 teneva in mano; aprÃ¬, entrÃ², riÂ¬',\n",
       " 'chiuse diligentemente; e, ansioso di trovarsi in una com-',\n",
       " 'Letteratura italiana Einaudi',\n",
       " '20',\n",
       " 'A lessandro M anioni -1 Promessi sposi',\n",
       " 'pagnia fidata, chiamÃ² subito: - Perpetua! Perpetua! -,',\n",
       " 'avviandosi pure verso il salotto, dove questa doveva esÂ¬',\n",
       " 'ser certamente ad apparecchiar la tavola per la cena. E ra',\n",
       " \"Perpetua, come ognun se n'avvede, la serva di don AbÂ¬\",\n",
       " 'bondio: serva affezionata e fedele, che sapeva ubbidire e',\n",
       " \"comandare, secondo l'occasione, tollerare a tempo il\",\n",
       " 'brontolÃ¬o e le fantasticaggini del padrone, e fargli a temÂ¬',\n",
       " 'po tollerar le proprie, che divenivan di giorno in giorno',\n",
       " \"piÃ¹ frequenti, da che aveva passata l'etÃ\\xa0 sinodale dei\",\n",
       " 'quaranta, rimanendo celibe, per aver rifiutati tutti i parÂ¬',\n",
       " 'titi che le si erano offerti, come diceva lei, o per non aver',\n",
       " 'mai trovato un cane che la volesse, come dicevan le sue',\n",
       " 'amiche.',\n",
       " '- Vengo, - rispose, mettendo sul tavolino, al luogo',\n",
       " 'solito, il fiaschetta del vino prediletto di don Abbondio,',\n",
       " 'e si mosse lentamente: ma non aveva ancor toccata la soÂ¬',\n",
       " \"glia del salotto, ch'egli v'entrÃ², con un passo cosÃ¬ legato,\",\n",
       " 'con uno sguardo cosÃ¬ adombrato, con un viso cosÃ¬ straÂ¬',\n",
       " 'volto, che non ci sarebbero nemmen bisognati gli occhi',\n",
       " 'esperti di Perpetua, per iscoprire a prima vista che gli',\n",
       " 'era accaduto qualche cosa di straordinario davvero.',\n",
       " \"- M isericordia! cos'ha, signor padrone?\",\n",
       " '- N iente, niente, - rispose don Abbondio, lasciandosi',\n",
       " 'andar tutto ansante sul suo seggiolone.',\n",
       " '- Come, niente? La vuol dare ad intendere a me? cosÃ¬',\n",
       " \"brutto com'Ã¨? Q ualche gran caso Ã¨ avvenuto.\",\n",
       " '- Oh, per amor del cielo! Quando dico niente, o Ã¨',\n",
       " 'niente, o Ã¨ cosa che non posso dire.',\n",
       " '- Che non puÃ² dir neppure a me? Chi si prenderÃ\\xa0 cuÂ¬',\n",
       " 'ra della sua salute? Chi le darÃ\\xa0 un parere?...',\n",
       " '- OhimÃ¨! tacete, e non apparecchiate altro: datemi',\n",
       " 'un bicchiere del mio vino.',\n",
       " '- E lei mi vorrÃ\\xa0 sostenere che non ha niente! - disse',\n",
       " 'Perpetua, empiendo il bicchiere, e tenendolo poi in maÂ¬',\n",
       " 'no, come se non volesse darlo che in premio della confiÂ¬',\n",
       " 'denza che si faceva tanto aspettare.',\n",
       " 'Letteratura italiana Einaudi',\n",
       " 'A lessandro M anioni -1 Promessi sposi',\n",
       " '- Date qui, date qui, - disse don Abbondio, prendenÂ¬',\n",
       " 'dole il bicchiere, con la mano non ben ferma, e votandoÂ¬',\n",
       " 'lo poi in fretta, come se fosse una medicina.',\n",
       " \"- Vuol dunque ch'io sia costretta di domandar qua e\",\n",
       " 'lÃ\\xa0 cosa sia accaduto al mio padrone? - disse Perpetua,',\n",
       " 'ritta dinanzi a lui, con le mani arrovesciate sui fianchi, e',\n",
       " 'le gomita appuntate davanti, guardandolo fisso, quasi',\n",
       " 'volesse succhiargli dagli occhi il segreto.',\n",
       " '- Per amor del cielo! non fate pettegolezzi, non fate',\n",
       " 'schiamazzi: ne va... ne va la vita!',\n",
       " '- La vita!',\n",
       " '- La vita.',\n",
       " \"- Lei sa bene che, ogni volta che m'ha detto qualche\",\n",
       " 'cosa sinceramente, in confidenza, io non ho mai...',\n",
       " '- Brava! come quando...',\n",
       " \"Perpetua s'avvide d'aver toccato un tasto falso; onde,\",\n",
       " 'cambiando subito il tono, - signor padrone, - disse, con',\n",
       " 'voce commossa e da commovere, - io le sono sempre',\n",
       " 'stata affezionata; e, se ora voglio sapere, Ã¨ per premura,',\n",
       " 'perchÃ© vorrei poterla soccorrere, darle un buon parere,',\n",
       " \"sollevarle l'animo...\",\n",
       " 'Il fatto sta che don Abbondio aveva forse tanta voglia',\n",
       " 'di scaricarsi del suo doloroso segreto, quanta ne avesse',\n",
       " 'Perpetua di conoscerlo; onde, dopo aver respinti semÂ¬',\n",
       " 'pre piÃ¹ debolmente i nuovi e piÃ¹ incalzanti assalti di lei,',\n",
       " \"dopo averle fatto piÃ¹ d'una volta giurare che non fiateÂ¬\",\n",
       " 'rebbe, finalmente, con molte sospensioni, con molti',\n",
       " 'ohimÃ¨, le raccontÃ² il miserabile caso. Quando si venne',\n",
       " 'al nome terribile del mandante, bisognÃ² che Perpetua',\n",
       " 'proferisse un nuovo e piÃ¹ solenne giuramento; e don',\n",
       " 'Abbondio, pronunziato quel nome, si rovesciÃ² sulla',\n",
       " 'spalliera della seggiola, con un gran sospiro, alzando le',\n",
       " 'mani, in atto insieme di comando e di supplica, e dicenÂ¬',\n",
       " 'do: - per amor del cielo!',\n",
       " '- Delle sue! - esclamÃ² Perpetua. - Oh che birbone!',\n",
       " 'oh che soverchiatore! oh che uomo senza timor di D io!',\n",
       " 'Letteratura italiana Einaudi',\n",
       " '22',\n",
       " 'A lessandro M anioni -1 Promessi sposi',\n",
       " '- Volete tacere? o volete rovinarmi del tutto?',\n",
       " '-Oh! siam qui soli che nessun ci sente. M a come',\n",
       " 'farÃ\\xa0, povero signor padrone?',\n",
       " '-Oh vedete, - disse don Abbondio, con voce stizzoÂ¬',\n",
       " 'sa: - vedete che bei pareri mi sa dar costei! Viene a doÂ¬',\n",
       " \"mandarmi come farÃ², come farÃ²; quasi fosse lei nell'imÂ¬\",\n",
       " 'piccio, e toccasse a me di levamela.',\n",
       " \"- Ma! io l'avrei bene il mio povero parere da darle;\",\n",
       " 'ma poi...',\n",
       " '-Ma poi, sentiamo.',\n",
       " '- 11 mio parere sarebbe che, siccome tutti dicono che',\n",
       " \"il nostro arcivescovo Ã¨ un sant'uomo, e un uomo di polÂ¬\",\n",
       " 'so, e che non ha paura di nessuno, e, quando puÃ² fare',\n",
       " 'star a dovere un di questi prepotenti, per sostenere un',\n",
       " 'curato, ci gongola; io direi, e dico che lei gli scrivesse',\n",
       " 'una bella lettera, per informarlo come qualmente...',\n",
       " '- Volete tacere? volete tacere? Son pareri codesti da',\n",
       " 'dare a un poveruomo? Q uando mi fosse toccata una',\n",
       " \"schioppettata nella schiena, Dio liberi! l'arcivescovo me\",\n",
       " 'la leverebbe?',\n",
       " '- Eh! le schioppettate non si danno vi a co me confetti:',\n",
       " 'e guai se questi cani dovessero mordere tutte le volte',\n",
       " 'che abbaiano! E io ho sempre veduto che a chi sa moÂ¬',\n",
       " 'strare i denti, e farsi stimare, gli si porta rispetto; e, apÂ¬',\n",
       " 'punto perchÃ© lei non vuol mai dir la sua ragione, siam riÂ¬',\n",
       " 'dotti a segno che tutti vengono, con licenza, a...',\n",
       " '- Volete tacere?',\n",
       " '- lo taccio subito; ma Ã¨ perÃ² certo che, quando il',\n",
       " \"mondo s'accorge che uno, sempre, in ogni incontro, Ã¨\",\n",
       " 'pronto a calar le...',\n",
       " '- Volete tacere? Ãˆ tempo ora di dir codeste baggianaÂ¬',\n",
       " 'te?',\n",
       " '- Basta: ci penserÃ\\xa0 questa notte; ma intanto non coÂ¬',\n",
       " 'minci a farsi male da sÃ©, a rovinarsi la salute; mangi un',\n",
       " 'boccone.',\n",
       " '- Ci penserÃ² io, - rispose, brontolando, don Abbon-',\n",
       " 'Letteratura italiana Einaudi',\n",
       " '23',\n",
       " 'A lessandro M anioni -1 Promessi sposi',\n",
       " 'dio: - sicuro; io ci penserÃ², io ci ho da pensare - E',\n",
       " \"s'alzÃ², continuando: - non voglio prender niente; nienÂ¬\",\n",
       " \"te: ho altra voglia: lo so anch'io che tocca a pensarci a\",\n",
       " \"me. M a! la doveva accader per l'appunto a me.\",\n",
       " \"- Mandi almen giÃ¹ quest'altro gocciolo, - disse PerÂ¬\",\n",
       " 'petua, mescendo. - Lei sa che questo le rimette sempre',\n",
       " 'lo stomaco.',\n",
       " '- Eh! ci vuol altro, ci vuol altro, ci vuol altro. CosÃ¬ diÂ¬',\n",
       " 'cendo prese il lume, e, brontolando sempre: - una picÂ¬',\n",
       " 'cola bagattella! a un galantuomo par mio! e domani',\n",
       " \"com'andrÃ\\xa0? - e altre simili lamentazioni, s'avviÃ² per saliÂ¬\",\n",
       " 're in camera. G iunto su la soglia, si voltÃ² indietro verso',\n",
       " 'Perpetua, mise il dito sulla bocca, disse, con tono lento e',\n",
       " 'solenne : - per amor del cielo! -, e disparve.',\n",
       " 'Letteratura italiana Einaudi 24',\n",
       " 'A lessar!Ciro M anzonÃ¬ -1 Promessi sposi',\n",
       " 'CAPITOLO II',\n",
       " 'Si racconta che il principe di CondÃ© dormÃ¬ profondaÂ¬',\n",
       " 'mente la notte avanti la giornata di Rocroi: ma, in primo',\n",
       " 'luogo, era molto affaticato; secondariamente aveva giÃ',\n",
       " 'date tutte le disposizioni necessarie, e stabilito ciÃ² che',\n",
       " 'dovesse fare, la mattina. Don Abbondio in vece non saÂ¬',\n",
       " \"peva altro ancora se non che l'indomani sarebbe giorno\",\n",
       " 'di battaglia; quindi una gran parte della notte fu spesa in',\n",
       " \"consulte angosciose. N on far caso dell'intimazione ribalÂ¬\",\n",
       " 'da, nÃ© delle minacce, e fare il matrimonio, era un partiÂ¬',\n",
       " 'to, che non volle neppur mettere in deliberazione. ConÂ¬',\n",
       " \"fidare a Renzo l'occorrente, e cercar con lui qualche\",\n",
       " 'mezzo... D io liberi ! - N on si lasci scappar parola... altriÂ¬',\n",
       " \"menti... ehm!- aveva detto un di que' bravi; e, al sentirsi\",\n",
       " \"rimbombar quell'ehm/ nella mente, don Abbondio, non\",\n",
       " 'che pensare a trasgredire una tal legge, si pentiva anche',\n",
       " \"del l'aver ciarlato con Perpetua. Fuggire? Dove? E poi!\",\n",
       " ...]"
      ]
     },
     "execution_count": 62,
     "metadata": {},
     "output_type": "execute_result"
    }
   ],
   "source": [
    "new_text = [x for x in text if len(x.strip())>0] #questo però ha gli a capo\n",
    "new_text = [x.strip() for x in text if len(x.strip())>0]\n",
    "new_text"
   ]
  },
  {
   "cell_type": "markdown",
   "id": "16f8dd52",
   "metadata": {},
   "source": [
    "### Contiamo la frequenza delle lettere\n",
    "\n",
    "- **input**: lista di stringhe di testo\n",
    "- **output**: dizionario in cui le chiavi sono le lettere(chars) e i valori sono le occorrenze corrispondenti."
   ]
  },
  {
   "cell_type": "markdown",
   "id": "d2d7ba28",
   "metadata": {},
   "source": [
    "**Nel primo modo creiamo il dizionario*"
   ]
  },
  {
   "cell_type": "code",
   "execution_count": 80,
   "id": "ec55504d",
   "metadata": {},
   "outputs": [
    {
     "data": {
      "text/plain": [
       "dict_items([('I', 748), (' ', 210813), ('P', 1443), ('r', 69829), ('o', 98737), ('m', 23964), ('e', 122815), ('s', 59356), ('i', 101233), ('p', 30460), ('d', 38779), ('A', 1977), ('l', 57166), ('a', 120579), ('n', 77712), ('M', 1736), ('z', 7978), ('L', 1896), ('t', 65070), ('u', 36040), ('E', 1715), ('f', 10394), (':', 2824), ('c', 46963), ('g', 17174), ('h', 13753), (',', 26351), ('1', 1335), ('9', 155), ('8', 164), ('5', 289), ('S', 945), ('C', 1311), ('2', 290), ('4', 274), ('0', 331), ('V', 428), ('7', 171), ('X', 122), ('3', 281), ('6', 283), ('v', 23174), ('N', 481), ('T', 385), ('R', 902), ('O', 218), ('D', 714), ('U', 154), ('Z', 10), ('Â', 7248), ('«', 192), (\"'\", 9819), ('H', 82), ('Ã', 10758), ('²', 2739), ('¬', 8394), ('©', 1144), ('\\xa0', 1892), ('b', 9765), ('.', 9494), ('¹', 1818), ('q', 7635), ('-', 5619), ('â', 73), ('€', 73), ('™', 72), ('/', 8), ('¨', 1431), ('j', 15), ('B', 248), ('F', 396), ('»', 193), ('?', 1334), ('Q', 370), (';', 3818), ('!', 1633), ('˜', 1), ('(', 189), (')', 190), ('G', 412), ('ˆ', 93), ('J', 3), ('y', 8), ('*', 57), ('\\\\', 1), ('³', 11), ('x', 13), ('§', 1), ('W', 3), ('w', 1)])"
      ]
     },
     "execution_count": 80,
     "metadata": {},
     "output_type": "execute_result"
    }
   ],
   "source": [
    "#output = {}\n",
    "output = dict()\n",
    "\n",
    "for s in new_text:\n",
    "    for c in s:\n",
    "        try:\n",
    "            output[c] = output[c] + 1\n",
    "        except KeyError:\n",
    "            output[c]=1\n",
    "            \n",
    "output.items()"
   ]
  },
  {
   "cell_type": "markdown",
   "id": "151b10ec",
   "metadata": {},
   "source": [
    "**Qui invece estraiamo tutte le chiavi (caratteri) dal testo e poi creiamo il dizionario e lo riempiamo.**"
   ]
  },
  {
   "cell_type": "code",
   "execution_count": 79,
   "id": "90bd5e83",
   "metadata": {},
   "outputs": [],
   "source": [
    "v = set(\" \".join(new_text))"
   ]
  },
  {
   "cell_type": "code",
   "execution_count": 74,
   "id": "278b499a",
   "metadata": {},
   "outputs": [],
   "source": [
    "output = dict([x, 0] for x in v)\n",
    "for s in new_text:\n",
    "    for c in s:\n",
    "        output[c] = output[c] + 1"
   ]
  },
  {
   "cell_type": "markdown",
   "id": "4cfdb9e3",
   "metadata": {},
   "source": [
    "### Adesso ovviamente abbiamo una stima della frequenza dei caratteri\n",
    "\n",
    "Adesso possiamo stimare la probabilità di estrazione dei caratteri dall'alfabeto, per evitare di estrarre le lettere con la stessa probabilità. \n",
    "\n",
    "**Adesso dobbiamo usare queste frequenza come delle distribuzioni di probabilità**"
   ]
  },
  {
   "cell_type": "code",
   "execution_count": 85,
   "id": "9971e45c",
   "metadata": {},
   "outputs": [
    {
     "data": {
      "text/plain": [
       "7978"
      ]
     },
     "execution_count": 85,
     "metadata": {},
     "output_type": "execute_result"
    }
   ],
   "source": [
    "output['z']"
   ]
  },
  {
   "cell_type": "markdown",
   "id": "887e1126",
   "metadata": {},
   "source": [
    "Se noi consideriamo tutto quello fatto ora a partire dalla lettura del file fino alla creazione del dizionario con le frequenze assolute delle lettere, l'idea che ci potrebbe venire in mente è quella di inserire tutto questo codice in un singolo oggetto.\n",
    "\n",
    "La programmazione a oggetti consiste nel concetto di esistenza di macrofunzioni e funzioni sottostanti che vengono raggruppate in degli oggetti."
   ]
  },
  {
   "cell_type": "code",
   "execution_count": 86,
   "id": "2c19418a",
   "metadata": {},
   "outputs": [],
   "source": [
    "filename = \"/Users/andre/OneDrive/Desktop/DATA/promessi_sposi.txt\"\n",
    "with open(filename, 'r') as infile:\n",
    "    text = infile.readlines()"
   ]
  },
  {
   "cell_type": "code",
   "execution_count": 87,
   "id": "fadaf746",
   "metadata": {},
   "outputs": [
    {
     "data": {
      "text/plain": [
       "['I Promessi sposi',\n",
       " 'di Alessandro Manzoni',\n",
       " 'Letteratura italiana Einaudi',\n",
       " 'Edizione di riferimento:',\n",
       " 'a cura di Angelo M archese,']"
      ]
     },
     "execution_count": 87,
     "metadata": {},
     "output_type": "execute_result"
    }
   ],
   "source": [
    "new_text = []\n",
    "for i in text: #per ogni riga nella lista\n",
    "    new_line = i.strip() #nuova riga è la riga pulita\n",
    "    if len(new_line) > 0: #se questa riga è più lunga di 0\n",
    "        new_text.append(i.strip()) #metti la riga nel new text\n",
    "    \n",
    "new_text[:5]"
   ]
  },
  {
   "cell_type": "code",
   "execution_count": 89,
   "id": "7b1f2b46",
   "metadata": {},
   "outputs": [],
   "source": [
    "new_text = [x.strip() for x in text if len(x.strip())>0]"
   ]
  },
  {
   "cell_type": "code",
   "execution_count": 88,
   "id": "15a97c91",
   "metadata": {},
   "outputs": [
    {
     "data": {
      "text/plain": [
       "dict_items([('I', 748), (' ', 210813), ('P', 1443), ('r', 69829), ('o', 98737), ('m', 23964), ('e', 122815), ('s', 59356), ('i', 101233), ('p', 30460), ('d', 38779), ('A', 1977), ('l', 57166), ('a', 120579), ('n', 77712), ('M', 1736), ('z', 7978), ('L', 1896), ('t', 65070), ('u', 36040), ('E', 1715), ('f', 10394), (':', 2824), ('c', 46963), ('g', 17174), ('h', 13753), (',', 26351), ('1', 1335), ('9', 155), ('8', 164), ('5', 289), ('S', 945), ('C', 1311), ('2', 290), ('4', 274), ('0', 331), ('V', 428), ('7', 171), ('X', 122), ('3', 281), ('6', 283), ('v', 23174), ('N', 481), ('T', 385), ('R', 902), ('O', 218), ('D', 714), ('U', 154), ('Z', 10), ('Â', 7248), ('«', 192), (\"'\", 9819), ('H', 82), ('Ã', 10758), ('²', 2739), ('¬', 8394), ('©', 1144), ('\\xa0', 1892), ('b', 9765), ('.', 9494), ('¹', 1818), ('q', 7635), ('-', 5619), ('â', 73), ('€', 73), ('™', 72), ('/', 8), ('¨', 1431), ('j', 15), ('B', 248), ('F', 396), ('»', 193), ('?', 1334), ('Q', 370), (';', 3818), ('!', 1633), ('˜', 1), ('(', 189), (')', 190), ('G', 412), ('ˆ', 93), ('J', 3), ('y', 8), ('*', 57), ('\\\\', 1), ('³', 11), ('x', 13), ('§', 1), ('W', 3), ('w', 1)])"
      ]
     },
     "execution_count": 88,
     "metadata": {},
     "output_type": "execute_result"
    }
   ],
   "source": [
    "output = dict()\n",
    "\n",
    "for s in new_text:\n",
    "    for c in s:\n",
    "        try:\n",
    "            output[c] = output[c] + 1\n",
    "        except KeyError:\n",
    "            output[c]=1\n",
    "            \n",
    "output.items()"
   ]
  },
  {
   "cell_type": "markdown",
   "id": "9b187742",
   "metadata": {},
   "source": [
    "## Costruzione di una classe che contenga tutte le funzionalità:"
   ]
  },
  {
   "cell_type": "code",
   "execution_count": 2,
   "id": "d52ec366",
   "metadata": {},
   "outputs": [],
   "source": [
    "import MyLab1"
   ]
  },
  {
   "cell_type": "code",
   "execution_count": 8,
   "id": "f33b7cd0",
   "metadata": {},
   "outputs": [
    {
     "data": {
      "text/plain": [
       "('andrea', 'Andrea')"
      ]
     },
     "execution_count": 8,
     "metadata": {},
     "output_type": "execute_result"
    }
   ],
   "source": [
    "MyLab1.change_char('Andrea', 'a')"
   ]
  }
 ],
 "metadata": {
  "kernelspec": {
   "display_name": "Python 3 (ipykernel)",
   "language": "python",
   "name": "python3"
  },
  "language_info": {
   "codemirror_mode": {
    "name": "ipython",
    "version": 3
   },
   "file_extension": ".py",
   "mimetype": "text/x-python",
   "name": "python",
   "nbconvert_exporter": "python",
   "pygments_lexer": "ipython3",
   "version": "3.9.13"
  }
 },
 "nbformat": 4,
 "nbformat_minor": 5
}
