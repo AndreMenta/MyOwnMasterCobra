{
 "cells": [
  {
   "cell_type": "markdown",
   "id": "de347690",
   "metadata": {},
   "source": [
    "# Object-Oriented Programming\n",
    "\n",
    "L'idea chiave è che il programma è una collezione di oggetti che interagiscono tra loro.\n",
    "Per implementare questi oggetti noi usiamo le classi, nelle quali vengono definiti gli oggetti tipo, le quali contengono la descrizione della proprietà e i comportamenti degli oggetti.\n",
    "\n",
    "- ideazione: descrizione della classe di oggetti\n",
    "\n",
    "- genesi: creazione delle istanze della classe: oggetti\n",
    "\n"
   ]
  },
  {
   "cell_type": "markdown",
   "id": "16b0deae",
   "metadata": {},
   "source": [
    "### Descrivere la classe:\n",
    "\n",
    "- Attributi sono delle caratteristiche dei singoli oggetti\n",
    "- Metodi sono le funzioni che possono fare questi oggetti"
   ]
  },
  {
   "cell_type": "code",
   "execution_count": null,
   "id": "8d748aa9",
   "metadata": {},
   "outputs": [],
   "source": [
    "class TheSimpsons():\n",
    "    #descrizione degli oggetti: attributi degli oggetti della classe dei simpsons\n",
    "    # e i metodi\n",
    "    pass"
   ]
  },
  {
   "cell_type": "markdown",
   "id": "5b2d9fd8",
   "metadata": {},
   "source": [
    "### Creazione di istanze della classe:\n",
    "\n",
    "Vogliamo creare gli oggetti della classe, nel nostro caso i singoli personaggi."
   ]
  },
  {
   "cell_type": "code",
   "execution_count": null,
   "id": "841cfed5",
   "metadata": {},
   "outputs": [],
   "source": [
    "lisa = TheSimpsons()"
   ]
  },
  {
   "cell_type": "code",
   "execution_count": null,
   "id": "b684cee1",
   "metadata": {},
   "outputs": [],
   "source": [
    "print(lisa) #<__main__.TheSimpsons object at 0x000002D412D54F40>\n",
    "\n",
    "type(lisa) #__main__.TheSimpsons\n",
    "\n",
    "isinstance(lisa, TheSimpsons) #True"
   ]
  },
  {
   "cell_type": "markdown",
   "id": "2cf3ca24",
   "metadata": {},
   "source": [
    "### Descrizione attributi di istanza"
   ]
  },
  {
   "cell_type": "markdown",
   "id": "3b56bbe7",
   "metadata": {},
   "source": [
    "Aggiungiamo ora dei metodi e degli attributi:"
   ]
  },
  {
   "cell_type": "code",
   "execution_count": null,
   "id": "29ab5738",
   "metadata": {},
   "outputs": [],
   "source": [
    "# attributo nome\n",
    "lisa.nome = \"Lisa\"\n",
    "lisa.cognome = \"Simpsons\"\n",
    "lisa.nome\n",
    "lisa.cognome"
   ]
  },
  {
   "cell_type": "markdown",
   "id": "1768d4ea",
   "metadata": {},
   "source": [
    "La descrizione degli attributi però va fatta all'interno della creazione della classe, non a posteriori.\n",
    "Noi abbiamo lasciato la classe vuota e poi abbiamo deciso gli attributi.\n",
    "\n",
    "Il metodo \"__init__\" prende dei parametri che sono self e gli attributi, e quello che fa è prendere i valori che passo, crea gli attributi e assegna i valori all'interno degli attributi. \n",
    "\n",
    "Inizializzatore, il cui compito è prendere le istanze e assegnare le variabili. Il metodo sel serve per permettere al metodo \"__init__\" di creare l'istanza.\n",
    "\n",
    "Con l'inizializzatore io dico a python che ogni volta che creo oggetti di questo tipo lui deve chiedermi certi valori (nome, cognome) i quali vengono assegnati agli attributi.\n",
    "\n",
    "Init crea gli attributi dell'istanza e poi assegna il valore iniziale agli attributi di istanza."
   ]
  },
  {
   "cell_type": "markdown",
   "id": "0043b89f",
   "metadata": {},
   "source": [
    "Gli attributi sono delle variabili che contengono dei dati (nome, cognome...)"
   ]
  },
  {
   "cell_type": "code",
   "execution_count": null,
   "id": "d135c0d1",
   "metadata": {},
   "outputs": [],
   "source": [
    "class TheSimpsons():\n",
    "    #descrizione degli attributi e i metodi\n",
    "    \n",
    "    # 1.attributi\n",
    "    def __init__(self, nome, cognome, age, op): #inizializzatore\n",
    "        self.nome = nome\n",
    "        self.cognome = cognome\n",
    "        self.age = age\n",
    "        self.orientamento = op"
   ]
  },
  {
   "cell_type": "code",
   "execution_count": null,
   "id": "ee0e368c",
   "metadata": {},
   "outputs": [],
   "source": [
    "lisa = TheSimpsons(\"Lisa\", \"Simpsons\", 7, \"Repub\")\n",
    "\n",
    "print(lisa.nome)\n",
    "print(lisa.cognome)\n",
    "print(lisa.age)\n",
    "print(lisa.orientamento)"
   ]
  },
  {
   "cell_type": "code",
   "execution_count": null,
   "id": "fe4c31cf",
   "metadata": {},
   "outputs": [],
   "source": [
    "bart = TheSimpsons(\"Bart\", \"Simpsons\", 10, \"Dem\")\n",
    "\n",
    "bart.nome"
   ]
  },
  {
   "cell_type": "markdown",
   "id": "30fdee53",
   "metadata": {},
   "source": [
    "### Descrizione metodi:"
   ]
  },
  {
   "cell_type": "code",
   "execution_count": null,
   "id": "695131e3",
   "metadata": {},
   "outputs": [],
   "source": [
    "class TheSimpsons():\n",
    "    #descrizione degli attributi e i metodi\n",
    "    \n",
    "    # 1.attributi\n",
    "    def __init__(self, nome, cognome, age, op): #inizializzatore\n",
    "        self.nome = nome\n",
    "        self.cognome = cognome\n",
    "        self.age = age\n",
    "        self.orientamento = op\n",
    "        \n",
    "    #2. metodi = funzioni interne\n",
    "    def descriviti(self): #poi per ogni istanza al posto di self userà l'istanza (lisa, bart...)\n",
    "        print(f\"ciao sono {self.nome} {self.cognome} e ho {self.age} anni. Voto {self.orientamento} !\")\n",
    "        \n",
    "    def mangia(self, cibo):\n",
    "        print(f\"Sono {self.nome} e Mangio {cibo}\")\n",
    "        \n",
    "    def compie_anni(self):\n",
    "        self.age = self.age + 1\n",
    "        print(f\"Happy Birthday {self.nome}\")"
   ]
  },
  {
   "cell_type": "code",
   "execution_count": null,
   "id": "1b89ac15",
   "metadata": {},
   "outputs": [],
   "source": [
    "bart = TheSimpsons(\"Bart\", \"Simpsons\", 10, \"Dem\")\n",
    "lisa = TheSimpsons(\"Lisa\", \"Simpsons\", 7, \"Repub\")\n",
    "homer = TheSimpsons(\"Homer\", \"Simpsons\", 39, \"Dem\")"
   ]
  },
  {
   "cell_type": "code",
   "execution_count": null,
   "id": "d4470f42",
   "metadata": {},
   "outputs": [],
   "source": [
    "bart.descriviti()\n",
    "lisa.descriviti()\n",
    "homer.descriviti()"
   ]
  },
  {
   "cell_type": "code",
   "execution_count": null,
   "id": "c4fb030c",
   "metadata": {},
   "outputs": [],
   "source": [
    "bart.mangia(\"Patatine\")"
   ]
  },
  {
   "cell_type": "code",
   "execution_count": null,
   "id": "668468b0",
   "metadata": {},
   "outputs": [],
   "source": [
    "lisa.compie_anni()"
   ]
  },
  {
   "cell_type": "code",
   "execution_count": null,
   "id": "2e2dbe57",
   "metadata": {},
   "outputs": [],
   "source": [
    "lisa.descriviti()"
   ]
  },
  {
   "cell_type": "markdown",
   "id": "f9fa6be8",
   "metadata": {},
   "source": [
    "#### Attributo delle classe\n",
    "Un attributo della classe è un attributo che vale per tutti le istanze della classe. Questo attributo non assume valore diverso a seconda delle istanze."
   ]
  },
  {
   "cell_type": "code",
   "execution_count": null,
   "id": "dc7a4159",
   "metadata": {},
   "outputs": [],
   "source": [
    "class TheSimpsons():\n",
    "    #descrizione degli attributi e i metodi\n",
    "    cognome = \"Simpson\"\n",
    "    \n",
    "    # 1.attributi\n",
    "    def __init__(self, nome, age, op): #inizializzatore\n",
    "        self.nome = nome\n",
    "        self.age = age\n",
    "        self.orientamento = op\n",
    "        \n",
    "    #2. metodi = funzioni interne\n",
    "    def descriviti(self): #poi per ogni istanza al posto di self userà l'istanza (lisa, bart...)\n",
    "        print(f\"ciao sono {self.nome} {self.cognome} e ho {self.age} anni. Voto {self.orientamento} !\")\n",
    "        \n",
    "    def mangia(self, cibo):\n",
    "        print(f\"Sono {self.nome} e Mangio {cibo}\")\n",
    "        \n",
    "    def compie_anni(self):\n",
    "        self.age = self.age + 1\n",
    "        print(f\"Happy Birthday {self.nome}\")"
   ]
  },
  {
   "cell_type": "code",
   "execution_count": null,
   "id": "038c4d90",
   "metadata": {},
   "outputs": [],
   "source": [
    "bart.descriviti()\n",
    "lisa.descriviti()\n",
    "homer.descriviti()"
   ]
  },
  {
   "cell_type": "code",
   "execution_count": null,
   "id": "7412600b",
   "metadata": {},
   "outputs": [],
   "source": [
    "bart.cognome"
   ]
  },
  {
   "cell_type": "markdown",
   "id": "e727e9a0",
   "metadata": {},
   "source": [
    "## ESERCIZIO:\n",
    "\n",
    "Impresa che vende giocattoli ci chiede di fare una collezione con attributi e metodi. Noi dobbiamo gestire l'inventario.\n",
    "\n",
    "Sarebbe da fare su pycharm ma per comodità faccio qua ora -->"
   ]
  },
  {
   "cell_type": "code",
   "execution_count": null,
   "id": "d6cd4e45",
   "metadata": {},
   "outputs": [],
   "source": [
    "from collections import defaultdict\n",
    "\n",
    "# quando creo defaultdict devo passare qualcosa che mi ritorni il valore di default\n",
    "# generalmente una funzione\n",
    "# se inserisco lambda è come fare una funzione con def che mi returni un valore da me scelto\n",
    "# default dict è un dizionario normale che non crasha se manca una chiave"
   ]
  },
  {
   "cell_type": "code",
   "execution_count": null,
   "id": "e561e8eb",
   "metadata": {},
   "outputs": [],
   "source": [
    "class Client():\n",
    "    \n",
    "    def __init__(self, username, password):\n",
    "        self.username = username\n",
    "        self.password = password\n",
    "        self.cart = defaultdict(int) # valore di default è lo zero"
   ]
  },
  {
   "cell_type": "code",
   "execution_count": null,
   "id": "4f434457",
   "metadata": {},
   "outputs": [],
   "source": [
    "marco = Client(\"mark00\", 123)"
   ]
  },
  {
   "cell_type": "code",
   "execution_count": null,
   "id": "7edd67b2",
   "metadata": {},
   "outputs": [],
   "source": [
    "class FoodVan():\n",
    "    #attributi e metodi\n",
    "    \n",
    "    stock_iniziale = 10\n",
    "\n",
    "    #1.attributi\n",
    "    def __init__(self, modello, dimensione, materiale, prezzo):\n",
    "        self.modello = modello\n",
    "        self.dimensione = dimensione\n",
    "        self.materiale = materiale\n",
    "        self.prezzo = prezzo\n",
    "        \n",
    "    #2. metodi\n",
    "    def add_to_cart(self, client):\n",
    "        ''' \n",
    "        questo metodo mi aggiorna il carrello:\n",
    "        questo metodo mi inserisce come chiave del self.cart il nome del modello\n",
    "        come value mi inserisce invece il conteggio\n",
    "        '''\n",
    "        if self.stock_iniziale > 0:\n",
    "            client.cart[self.modello] = client.cart[self.modello] + 1\n",
    "            self.stock_iniziale -= 1\n",
    "        else:\n",
    "            print(\"Articolo esaurito.\")\n",
    "            \n",
    "   '''   \n",
    "        #questo da correggere da solo -->\n",
    "    def remove_from_cart(self, client):\n",
    "         \n",
    "        # questo metodo mi aggiorna il carrello:\n",
    "        # questo metodo mi inserisce come chiave del self.cart il nome del modello\n",
    "        # come value mi inserisce invece il conteggio\n",
    "    \n",
    "        client.cart[self.modello] = client.cart[self.modello] - 1\n",
    "   '''"
   ]
  },
  {
   "cell_type": "code",
   "execution_count": null,
   "id": "0fa9940a",
   "metadata": {},
   "outputs": [],
   "source": [
    "donut_van = FoodVan(\"Donut Van\", \"17 x 12 x 12\", \"legno\", \"18\")\n",
    "gelati_van = FoodVan(\"Gelati Van\", \"17 x 14 x 12\", \"legno\", \"20\")"
   ]
  },
  {
   "cell_type": "code",
   "execution_count": null,
   "id": "d9767816",
   "metadata": {},
   "outputs": [],
   "source": [
    "donut_van.add_to_cart(marco)\n",
    "gelati_van.add_to_cart(marco)"
   ]
  },
  {
   "cell_type": "code",
   "execution_count": null,
   "id": "a1177071",
   "metadata": {},
   "outputs": [],
   "source": [
    "print(marco.cart)"
   ]
  },
  {
   "cell_type": "markdown",
   "id": "3cea4d61",
   "metadata": {},
   "source": [
    "Adesso vogliamo aggiungere un' ulteriore collezione, la quale ha un attributo in più (batteria). Aggiungiamo anche i camper, i quali hanno anche degli sconti."
   ]
  },
  {
   "cell_type": "code",
   "execution_count": null,
   "id": "cc0848f9",
   "metadata": {},
   "outputs": [],
   "source": [
    "class FoodVan():\n",
    "    #attributi e metodi\n",
    "    \n",
    "    stock_iniziale = 10\n",
    "\n",
    "    #1.attributi\n",
    "    def __init__(self, modello, dimensione, materiale, prezzo):\n",
    "        self.modello = modello\n",
    "        self.dimensione = dimensione\n",
    "        self.materiale = materiale\n",
    "        self.prezzo = prezzo\n",
    "        \n",
    "    #2. metodi\n",
    "    def add_to_cart(self, client):\n",
    "        if self.stock_iniziale > 0:\n",
    "            client.cart[self.modello] = client.cart[self.modello] + 1\n",
    "            self.stock_iniziale -= 1\n",
    "        else:\n",
    "            print(\"Articolo esaurito.\")\n",
    "            \n",
    "            "
   ]
  },
  {
   "cell_type": "code",
   "execution_count": null,
   "id": "c03ac2af",
   "metadata": {},
   "outputs": [],
   "source": [
    "class RaceCar():\n",
    "    \n",
    "    stock_iniziale = 2\n",
    "    \n",
    "    def __init__(self, modello, dimensione, materiale, prezzo, batteria):\n",
    "        self.modello = modello\n",
    "        self.dimensione = dimensione\n",
    "        self.materiale = materiale\n",
    "        self.prezzo = prezzo\n",
    "        self.batteria = batteria\n",
    "        \n",
    "    def add_to_cart(self, client):\n",
    "        if self.stock_iniziale > 0:\n",
    "            client.cart[self.modello] = client.cart[self.modello] + 1\n",
    "            self.stock_iniziale -= 1\n",
    "        else:\n",
    "            print(\"Articolo esaurito.\")\n",
    "            \n",
    "            "
   ]
  },
  {
   "cell_type": "code",
   "execution_count": null,
   "id": "d15cfa51",
   "metadata": {},
   "outputs": [],
   "source": [
    "class Batteria():\n",
    "    def __init__(self, marchio, voltaggio):\n",
    "        self.marchio = marchio\n",
    "        self.voltaggio = voltaggio\n",
    "        self.carica = False\n",
    "        \n",
    "    def recharge(self):\n",
    "        self.carica = True\n",
    "        print(\"batteria carica\")\n",
    "        \n",
    "        "
   ]
  },
  {
   "cell_type": "code",
   "execution_count": null,
   "id": "9c6e45b3",
   "metadata": {},
   "outputs": [],
   "source": [
    "class Camper():\n",
    "    \n",
    "    stock_iniziale = 2\n",
    "    \n",
    "    def __init__(self, modello, dimensione, materiale, prezzo):\n",
    "        self.modello = modello\n",
    "        self.dimensione = dimensione\n",
    "        self.materiale = materiale\n",
    "        self.prezzo = prezzo\n",
    "        \n",
    "    def add_to_cart(self, client):\n",
    "        if self.stock_iniziale > 0:\n",
    "            client.cart[self.modello] = client.cart[self.modello] + 1\n",
    "            self.stock_iniziale -= 1\n",
    "        else:\n",
    "            print(\"Articolo esaurito.\")\n",
    "            \n",
    "    def applica_sconto(self, percentuale):\n",
    "        self.prezzo = self.prezzo * (1 - percentuale)\n",
    "        \n",
    "        "
   ]
  },
  {
   "cell_type": "code",
   "execution_count": null,
   "id": "7b4c4b02",
   "metadata": {},
   "outputs": [],
   "source": [
    "batteria = Batteria(\"Gecoty\", \"6V\")"
   ]
  },
  {
   "cell_type": "code",
   "execution_count": null,
   "id": "77bc74c6",
   "metadata": {},
   "outputs": [],
   "source": [
    "batteria.recharge()"
   ]
  },
  {
   "cell_type": "code",
   "execution_count": null,
   "id": "cc06df79",
   "metadata": {},
   "outputs": [],
   "source": [
    "blackjack = RaceCar(\"Black Jack 21\", \"16 x 10\", \"legno\", \"28\", batteria)\n",
    "\n",
    "print(blackjack.modello)"
   ]
  },
  {
   "cell_type": "code",
   "execution_count": null,
   "id": "bc2bc28b",
   "metadata": {},
   "outputs": [],
   "source": [
    "camper_arizona = Camper(\"Camper\", \"20 x 15\", \"legno\", 20)"
   ]
  },
  {
   "cell_type": "code",
   "execution_count": null,
   "id": "2775ad8e",
   "metadata": {},
   "outputs": [],
   "source": [
    "print(camper_arizona.prezzo)"
   ]
  },
  {
   "cell_type": "code",
   "execution_count": null,
   "id": "a449b7f6",
   "metadata": {},
   "outputs": [],
   "source": [
    "camper_arizona.applica_sconto(.5)\n",
    "print(camper_arizona.prezzo)"
   ]
  },
  {
   "cell_type": "markdown",
   "id": "c9c53e1b",
   "metadata": {},
   "source": [
    "## Ereditarietà\n",
    "\n",
    "Raccolgo a fattor comune e poi inserisco la classe madre tra le istanze delle altre classi."
   ]
  },
  {
   "cell_type": "code",
   "execution_count": 1,
   "id": "3d3e1b00",
   "metadata": {},
   "outputs": [],
   "source": [
    "class Vehicle():\n",
    "    #attributi e metodi\n",
    "    \n",
    "    stock_iniziale = 10\n",
    "\n",
    "    #1.attributi\n",
    "    def __init__(self, modello, dimensione, materiale, prezzo):\n",
    "        self.modello = modello\n",
    "        self.dimensione = dimensione\n",
    "        self.materiale = materiale\n",
    "        self.prezzo = prezzo\n",
    "        \n",
    "    #2. metodi\n",
    "    def add_to_cart(self, client):\n",
    "        if self.stock_iniziale > 0:\n",
    "            client.cart[self.modello] = client.cart[self.modello] + 1\n",
    "            self.stock_iniziale -= 1\n",
    "        else:\n",
    "            print(\"Articolo esaurito.\")"
   ]
  },
  {
   "cell_type": "code",
   "execution_count": 2,
   "id": "bd3abd20",
   "metadata": {},
   "outputs": [],
   "source": [
    "class FoodVan(Vehicle):\n",
    "    pass"
   ]
  },
  {
   "cell_type": "code",
   "execution_count": 3,
   "id": "eb02f655",
   "metadata": {},
   "outputs": [],
   "source": [
    "class RaceCare(Vehicle):\n",
    "    \n",
    "    def __init__(self, modello, dimensione, materiale, prezzo, batteria):\n",
    "        self.batteria = batteria\n",
    "        \n",
    "        super().__init__(modello, dimensione, materiale, prezzo)"
   ]
  },
  {
   "cell_type": "code",
   "execution_count": null,
   "id": "c15b8fb9",
   "metadata": {},
   "outputs": [],
   "source": []
  }
 ],
 "metadata": {
  "kernelspec": {
   "display_name": "Python 3 (ipykernel)",
   "language": "python",
   "name": "python3"
  },
  "language_info": {
   "codemirror_mode": {
    "name": "ipython",
    "version": 3
   },
   "file_extension": ".py",
   "mimetype": "text/x-python",
   "name": "python",
   "nbconvert_exporter": "python",
   "pygments_lexer": "ipython3",
   "version": "3.9.13"
  }
 },
 "nbformat": 4,
 "nbformat_minor": 5
}
