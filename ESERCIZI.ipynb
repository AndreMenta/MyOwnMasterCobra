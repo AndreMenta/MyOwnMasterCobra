{
 "cells": [
  {
   "cell_type": "markdown",
   "id": "5cc1ef8b",
   "metadata": {},
   "source": [
    "### Guess-game\n",
    "\n",
    "Un gioco in cui bisogna indovinare il numero nel meno tentativi possibili (fallimentare)."
   ]
  },
  {
   "cell_type": "code",
   "execution_count": 1,
   "id": "ba28a25a",
   "metadata": {},
   "outputs": [],
   "source": [
    "import numpy as np"
   ]
  },
  {
   "cell_type": "code",
   "execution_count": 27,
   "id": "640b670f",
   "metadata": {},
   "outputs": [
    {
     "name": "stdout",
     "output_type": "stream",
     "text": [
      "16\n"
     ]
    }
   ],
   "source": [
    "numero_da_ind = np.random.randint(100)\n",
    "n_tent = None\n",
    "\n",
    "print(numero_da_ind)"
   ]
  },
  {
   "cell_type": "code",
   "execution_count": 15,
   "id": "54e93776",
   "metadata": {},
   "outputs": [],
   "source": [
    "numero_da_ind = np.random.randint(100)\n",
    "n_tent = None\n",
    "\n",
    "def guess_game(tentativo):\n",
    "    if tentativo == numero_da_ind:\n",
    "        return('Bravo, hai vinto in {} tentativi!')\n",
    "    elif tentativo < numero_da_ind:\n",
    "        return('Ritenta in grande!')\n",
    "    elif tentativo > numero_da_ind:\n",
    "        return('Stai esagerando amico!')\n",
    "    \n"
   ]
  },
  {
   "cell_type": "code",
   "execution_count": 21,
   "id": "c2857c04",
   "metadata": {},
   "outputs": [
    {
     "name": "stdout",
     "output_type": "stream",
     "text": [
      "Scegli un numero: 23\n"
     ]
    },
    {
     "data": {
      "text/plain": [
       "'Ritenta in grande!'"
      ]
     },
     "execution_count": 21,
     "metadata": {},
     "output_type": "execute_result"
    }
   ],
   "source": [
    "def guess_game():\n",
    "    tentativo = int(input('Scegli un numero: '))\n",
    "    while tentativo != numero_da_ind:\n",
    "        if tentativo == numero_da_ind:\n",
    "            return('Bravo, hai vinto in {} tentativi!')\n",
    "        elif tentativo < numero_da_ind:\n",
    "            return('Ritenta in grande!')\n",
    "        elif tentativo > numero_da_ind:\n",
    "            return('Stai esagerando amico!')\n",
    "    \n",
    "guess_game()"
   ]
  },
  {
   "cell_type": "code",
   "execution_count": 33,
   "id": "55085ee4",
   "metadata": {},
   "outputs": [
    {
     "name": "stdout",
     "output_type": "stream",
     "text": [
      "Scegli un numero: 23\n",
      "Scegli un numero: 16\n"
     ]
    }
   ],
   "source": [
    "def guess_game():\n",
    "    tentativo = int(input('Scegli un numero: '))\n",
    "    while tentativo != numero_da_ind:\n",
    "        tentativo = int(input('Scegli un numero: '))\n",
    "        \n",
    "        \n",
    "guess_game()"
   ]
  },
  {
   "cell_type": "markdown",
   "id": "0c2d4f55",
   "metadata": {},
   "source": [
    "# Aiuto del prof"
   ]
  },
  {
   "cell_type": "code",
   "execution_count": 36,
   "id": "1544ee10",
   "metadata": {},
   "outputs": [
    {
     "data": {
      "text/plain": [
       "'TOO LOW'"
      ]
     },
     "execution_count": 36,
     "metadata": {},
     "output_type": "execute_result"
    }
   ],
   "source": [
    "def oracle(guess=1, correct=6):\n",
    "    if guess == correct:\n",
    "        result = 'WIN'\n",
    "    elif guess > correct:\n",
    "        result = 'TOO HIGH'\n",
    "    else:\n",
    "        result = 'TOO LOW'\n",
    "    return result\n",
    "\n",
    "oracle()"
   ]
  },
  {
   "cell_type": "code",
   "execution_count": 75,
   "id": "821551e4",
   "metadata": {},
   "outputs": [
    {
     "name": "stdout",
     "output_type": "stream",
     "text": [
      "WIN\n"
     ]
    }
   ],
   "source": [
    "mn, mx = 0, 10\n",
    "jackpot = np.random.randint(low=mn, high=mx)\n",
    "outcome = oracle(guess=3, correct=jackpot)\n",
    "print(outcome)"
   ]
  },
  {
   "cell_type": "markdown",
   "id": "d8e98dd1",
   "metadata": {},
   "source": [
    "### Automatizzazione:"
   ]
  },
  {
   "cell_type": "code",
   "execution_count": 41,
   "id": "c194bd35",
   "metadata": {},
   "outputs": [
    {
     "data": {
      "text/plain": [
       "1000"
      ]
     },
     "execution_count": 41,
     "metadata": {},
     "output_type": "execute_result"
    }
   ],
   "source": [
    "mn, mx, plays = 0, 10, 1000\n",
    "history = []\n",
    "for match in range(plays):\n",
    "    jackpot = np.random.randint(low=mn, high=mx)\n",
    "    counter = 0\n",
    "    for n in range(mn, mx):\n",
    "        counter += 1\n",
    "        outcome = oracle(guess=n, correct=jackpot)\n",
    "        if outcome == 'WIN':\n",
    "            break\n",
    "    history.append(counter)\n",
    "    \n",
    "len(history)"
   ]
  },
  {
   "cell_type": "code",
   "execution_count": 97,
   "id": "6c38d0b8",
   "metadata": {},
   "outputs": [],
   "source": [
    "mn, mx, plays = 0, 10, 1000\n",
    "history2 = []\n",
    "for match in range(1000):\n",
    "    jackpot = np.random.randint(low=mn, high=mx)\n",
    "    counter = 0\n",
    "    initial_guess = (mx - mn) // 2\n",
    "    for n in range(mn, mx):\n",
    "        counter += 1\n",
    "        outcome = oracle(guess=initial_guess, correct=jackpot)\n",
    "        if outcome == 'WIN':\n",
    "            break\n",
    "        else:\n",
    "            if outcome == 'TOO HIGH':\n",
    "                initial_guess -= 1\n",
    "            else:\n",
    "                initial_guess += 1\n",
    "    history2.append(counter)\n"
   ]
  },
  {
   "cell_type": "markdown",
   "id": "35bf1835",
   "metadata": {},
   "source": [
    "### tentativo da solo post aiuti"
   ]
  },
  {
   "cell_type": "code",
   "execution_count": 79,
   "id": "8722a090",
   "metadata": {},
   "outputs": [
    {
     "data": {
      "text/plain": [
       "'Too Low'"
      ]
     },
     "execution_count": 79,
     "metadata": {},
     "output_type": "execute_result"
    }
   ],
   "source": [
    "min = 0\n",
    "max = 10\n",
    "games = 100\n",
    "\n",
    "def guess_game(guess, goal):\n",
    "    if guess == goal:\n",
    "        result = 'WIN'\n",
    "    if guess < goal:\n",
    "        result = 'Too Low'\n",
    "    if guess > goal:\n",
    "        result = 'Too High'\n",
    "    return result\n",
    "guess_game(3, 6)"
   ]
  },
  {
   "cell_type": "code",
   "execution_count": 82,
   "id": "64a70dca",
   "metadata": {},
   "outputs": [],
   "source": [
    "min, max = 0, 10\n",
    "jackpot = np.random.randint(low=min, high=max)\n",
    "outcome = guess_game(guess=3, goal=jackpot)"
   ]
  },
  {
   "cell_type": "code",
   "execution_count": 96,
   "id": "bd672cad",
   "metadata": {},
   "outputs": [],
   "source": [
    "min, max, plays = 0, 10, 1000\n",
    "history = []\n",
    "\n",
    "for match in range(plays):\n",
    "    jackpot = np.random.randint(low=min, high=max)\n",
    "    counter = 0\n",
    "    for n in range(min, max):\n",
    "        counter = counter + 1\n",
    "        outcome = guess_game(guess=n, goal=jackpot)\n",
    "        if outcome == 'WIN':\n",
    "                break\n",
    "    history.append(counter)"
   ]
  },
  {
   "cell_type": "markdown",
   "id": "196288aa",
   "metadata": {},
   "source": [
    "# Esercizi for e while\n",
    "\n",
    "**Funzione che prende due numeri e stampa quello più grande**"
   ]
  },
  {
   "cell_type": "code",
   "execution_count": 11,
   "id": "010d234b",
   "metadata": {},
   "outputs": [
    {
     "name": "stdout",
     "output_type": "stream",
     "text": [
      "40 è più grande di 30\n"
     ]
    }
   ],
   "source": [
    "def maggiore(x1, x2):\n",
    "    if x1 > x2:\n",
    "        print(f'{x1} è più grande di {x2}')\n",
    "    elif x2 > x1:\n",
    "        print(f'{x2} è più grande di {x1}')\n",
    "    else:\n",
    "        print(f'{x1} è uguale a {x2}')\n",
    "        \n",
    "maggiore(30, 40)"
   ]
  },
  {
   "cell_type": "code",
   "execution_count": 14,
   "id": "5e83b829",
   "metadata": {},
   "outputs": [
    {
     "name": "stdout",
     "output_type": "stream",
     "text": [
      "c\n"
     ]
    }
   ],
   "source": [
    "def bigger(a,b,c):\n",
    "    if a > b and a > c:\n",
    "        print('a')\n",
    "    elif b > a and b > c:\n",
    "        print('b')\n",
    "    elif c > a and c > b:\n",
    "        print('c')\n",
    "              \n",
    "bigger(1,2,3)"
   ]
  },
  {
   "cell_type": "markdown",
   "id": "37ed6aa9",
   "metadata": {},
   "source": [
    "**Funzione che mi dice se è una vocale**"
   ]
  },
  {
   "cell_type": "code",
   "execution_count": 23,
   "id": "2831a7a4",
   "metadata": {},
   "outputs": [
    {
     "name": "stdout",
     "output_type": "stream",
     "text": [
      "consonante\n"
     ]
    }
   ],
   "source": [
    "from string import ascii_lowercase\n",
    "\n",
    "alfa = set(ascii_lowercase)\n",
    "vocal = {'a', 'e', 'i', 'o', 'u'}\n",
    "consonant = alfa.difference(vocal)\n",
    "\n",
    "def voc(char):\n",
    "    if char in vocal:\n",
    "        print('vocale')\n",
    "    elif char in consonant:\n",
    "        print('consonante')\n",
    "    else:\n",
    "        print('inserisci una lettera minuscola')"
   ]
  },
  {
   "cell_type": "markdown",
   "id": "300d950c",
   "metadata": {},
   "source": [
    "**Somma dei numeri in una lista**"
   ]
  },
  {
   "cell_type": "code",
   "execution_count": 30,
   "id": "39e3f9ef",
   "metadata": {},
   "outputs": [
    {
     "data": {
      "text/plain": [
       "10"
      ]
     },
     "execution_count": 30,
     "metadata": {},
     "output_type": "execute_result"
    }
   ],
   "source": [
    "def somma(lista = list()):\n",
    "    sum = 0\n",
    "    for i in lista:\n",
    "        sum = sum + i\n",
    "    return sum\n",
    "        \n",
    "somma([1,2,3,4])"
   ]
  },
  {
   "cell_type": "markdown",
   "id": "aa39211e",
   "metadata": {},
   "source": [
    "**Moltiplicazione dei numeri in una lista**"
   ]
  },
  {
   "cell_type": "code",
   "execution_count": 42,
   "id": "d31f0240",
   "metadata": {},
   "outputs": [
    {
     "data": {
      "text/plain": [
       "720"
      ]
     },
     "execution_count": 42,
     "metadata": {},
     "output_type": "execute_result"
    }
   ],
   "source": [
    "def moltiplicatore(lista):\n",
    "    risultato = 1\n",
    "    for numero in lista:\n",
    "        if numero != 0:\n",
    "            risultato *= numero\n",
    "    return risultato\n",
    "\n",
    "moltiplicatore([10,9,8])"
   ]
  },
  {
   "cell_type": "markdown",
   "id": "49f8f795",
   "metadata": {},
   "source": [
    "**Versione di Len**\n",
    "riceviamo una stringa --> "
   ]
  },
  {
   "cell_type": "code",
   "execution_count": 44,
   "id": "75b790ed",
   "metadata": {},
   "outputs": [
    {
     "data": {
      "text/plain": [
       "3"
      ]
     },
     "execution_count": 44,
     "metadata": {},
     "output_type": "execute_result"
    }
   ],
   "source": [
    "def length(input):\n",
    "    c = 0\n",
    "    for y in input:\n",
    "        c = c + 1\n",
    "    return c\n",
    "\n",
    "length('tet')"
   ]
  },
  {
   "cell_type": "markdown",
   "id": "815cd360",
   "metadata": {},
   "source": [
    "**Generatore di istogrammi con asterischi**\n",
    "input --> lista di numeri\n",
    "output --> asterischi"
   ]
  },
  {
   "cell_type": "code",
   "execution_count": 47,
   "id": "d2dcb199",
   "metadata": {},
   "outputs": [
    {
     "name": "stdout",
     "output_type": "stream",
     "text": [
      "*\n",
      "***\n",
      "*****\n",
      "**\n",
      "******\n"
     ]
    }
   ],
   "source": [
    "def isto(lista):\n",
    "    for i in lista:\n",
    "        print (i * '*')\n",
    "        \n",
    "isto([1,3,5,2,6])"
   ]
  },
  {
   "cell_type": "markdown",
   "id": "4765ccb2",
   "metadata": {},
   "source": [
    "**Frequenzimetro:**\n",
    "--> input una stringa\n",
    "--> output un dizionario con la frequenza delle lettere"
   ]
  },
  {
   "cell_type": "code",
   "execution_count": 52,
   "id": "279cab0b",
   "metadata": {},
   "outputs": [
    {
     "data": {
      "text/plain": [
       "{'a': 2, 's': 1, 'd': 1, 'f': 1, 'g': 1}"
      ]
     },
     "execution_count": 52,
     "metadata": {},
     "output_type": "execute_result"
    }
   ],
   "source": [
    "def freq(stringa):\n",
    "    idx = {}\n",
    "    for c in stringa:\n",
    "        if c in idx.keys():\n",
    "            idx[c] = idx[c] + 1\n",
    "        else:\n",
    "            idx[c] = 1\n",
    "    return idx\n",
    "\n",
    "freq('asdfga')"
   ]
  },
  {
   "cell_type": "markdown",
   "id": "1ef1dd76",
   "metadata": {},
   "source": [
    "**Presente o non presente nella lista?**"
   ]
  },
  {
   "cell_type": "code",
   "execution_count": 60,
   "id": "5731bdc2",
   "metadata": {},
   "outputs": [
    {
     "name": "stdout",
     "output_type": "stream",
     "text": [
      "no\n"
     ]
    }
   ],
   "source": [
    "def funzione(lista, elem):\n",
    "    if elem in lista:\n",
    "        print('si')\n",
    "    else:\n",
    "        print('no')\n",
    "        \n",
    "funzione(['a','c'], 's')"
   ]
  },
  {
   "cell_type": "code",
   "execution_count": 72,
   "id": "a5ac86d3",
   "metadata": {},
   "outputs": [
    {
     "name": "stdout",
     "output_type": "stream",
     "text": [
      "vuoi giocare? si o no? si\n",
      "Che parola vuoi?mamma\n"
     ]
    },
    {
     "data": {
      "text/plain": [
       "'mmoammommoa'"
      ]
     },
     "execution_count": 72,
     "metadata": {},
     "output_type": "execute_result"
    }
   ],
   "source": [
    "from string import ascii_lowercase\n",
    "\n",
    "alfa = set(ascii_lowercase)\n",
    "vocal = {'a', 'e', 'i', 'o', 'u'}\n",
    "consonant = alfa.difference(vocal)\n",
    "\n",
    "def gioco(stringa):\n",
    "    domanda = input('vuoi giocare? si o no? ')\n",
    "    if domanda == 'no':\n",
    "        print('va bene')\n",
    "    elif domanda == 'si':\n",
    "        stringa = input('Che parola vuoi?')\n",
    "        new_word = []\n",
    "        for c in stringa:\n",
    "            if c in consonant:\n",
    "                new_c = (c+c+'o')\n",
    "                new_word.append(new_c)\n",
    "            else:\n",
    "                new_word.append(c)\n",
    "        return ''.join(new_word)\n",
    "        \n",
    "\n",
    "gioco('Amico')\n",
    "            "
   ]
  },
  {
   "cell_type": "code",
   "execution_count": 86,
   "id": "c6f94025",
   "metadata": {},
   "outputs": [
    {
     "name": "stdout",
     "output_type": "stream",
     "text": [
      "triangolo, cerchio, quadrato? cerchio\n",
      "raggio: 9\n"
     ]
    },
    {
     "data": {
      "text/plain": [
       "254.34"
      ]
     },
     "execution_count": 86,
     "metadata": {},
     "output_type": "execute_result"
    }
   ],
   "source": [
    "def area():\n",
    "    forma = input('triangolo, cerchio, quadrato? ')\n",
    "    if forma == 'triangolo':\n",
    "        b = int(input('base: '))\n",
    "        h = int(input('altezza '))\n",
    "        area = (b * h)/2\n",
    "    elif forma == 'cerchio':\n",
    "        r = int(input('raggio: '))\n",
    "        area = 3.14 * r * r\n",
    "    elif forma == 'quadrato':\n",
    "        l = int(input('lato: '))\n",
    "        area = l * l\n",
    "    return area\n",
    " \n",
    "\n",
    "area()"
   ]
  },
  {
   "cell_type": "code",
   "execution_count": 90,
   "id": "654794d9",
   "metadata": {},
   "outputs": [
    {
     "data": {
      "text/plain": [
       "3"
      ]
     },
     "execution_count": 90,
     "metadata": {},
     "output_type": "execute_result"
    }
   ],
   "source": [
    "from string import ascii_lowercase\n",
    "import numpy as np\n",
    "np.random.randint(8)"
   ]
  },
  {
   "cell_type": "code",
   "execution_count": 98,
   "id": "5a9c8982",
   "metadata": {},
   "outputs": [
    {
     "name": "stdout",
     "output_type": "stream",
     "text": [
      "psw semplice o difficile? 2\n"
     ]
    },
    {
     "data": {
      "text/plain": [
       "'fspfrgbqsqygcsyudizs'"
      ]
     },
     "execution_count": 98,
     "metadata": {},
     "output_type": "execute_result"
    }
   ],
   "source": [
    "def password():\n",
    "    alfa = ascii_lowercase\n",
    "    psw = []\n",
    "    d = input('psw semplice o difficile? ')\n",
    "    if d == '1':\n",
    "        for i in range(8):\n",
    "            i = np.random.randint(len(alfa))\n",
    "            char = alfa[i]\n",
    "            psw.append(char)\n",
    "    elif d == '2':\n",
    "        for i in range(20):\n",
    "            i = np.random.randint(len(alfa))\n",
    "            char = alfa[i]\n",
    "            psw.append(char)\n",
    "            \n",
    "    return ''.join(psw)\n",
    "        \n",
    "    \n",
    "password()"
   ]
  },
  {
   "cell_type": "code",
   "execution_count": 6,
   "id": "91c583a4",
   "metadata": {},
   "outputs": [
    {
     "data": {
      "text/plain": [
       "'re'"
      ]
     },
     "execution_count": 6,
     "metadata": {},
     "output_type": "execute_result"
    }
   ],
   "source": [
    "nome = 'andrea'\n",
    "nome[3:5]"
   ]
  },
  {
   "cell_type": "code",
   "execution_count": 11,
   "id": "73e2ecd7",
   "metadata": {},
   "outputs": [
    {
     "name": "stdout",
     "output_type": "stream",
     "text": [
      "tempo in dd:hh:mmm: 12:01:000\n"
     ]
    },
    {
     "data": {
      "text/plain": [
       "1040400"
      ]
     },
     "execution_count": 11,
     "metadata": {},
     "output_type": "execute_result"
    }
   ],
   "source": [
    "def convertitore():\n",
    "    tempo = input('tempo in dd:hh:mmm: ')\n",
    "    dd, hh, mmm = int(tempo[:2]), int(tempo[3:5]), int(tempo[6:])\n",
    "    return dd*86400 + hh*3600 + mmm*60\n",
    "    \n",
    "convertitore()\n",
    "\n",
    "'''12:23:013'''"
   ]
  },
  {
   "cell_type": "code",
   "execution_count": 15,
   "id": "7cc4c479",
   "metadata": {},
   "outputs": [
    {
     "name": "stdout",
     "output_type": "stream",
     "text": [
      "tempo in dd:hh:mmm: 12:23:013\n"
     ]
    },
    {
     "data": {
      "text/plain": [
       "{12: 1036800, 23: 82800, 13: 780}"
      ]
     },
     "execution_count": 15,
     "metadata": {},
     "output_type": "execute_result"
    }
   ],
   "source": [
    "def convertitore():\n",
    "    idx = {}\n",
    "    tempo = input('tempo in dd:hh:mmm: ')\n",
    "    idx[int(tempo[:2])] = int(tempo[:2])*86400\n",
    "    idx[int(tempo[3:5])] = int(tempo[3:5])*3600\n",
    "    idx[int(tempo[6:])] = int(tempo[6:])*60\n",
    "    \n",
    "    return idx\n",
    "\n",
    "convertitore()"
   ]
  }
 ],
 "metadata": {
  "kernelspec": {
   "display_name": "Python 3 (ipykernel)",
   "language": "python",
   "name": "python3"
  },
  "language_info": {
   "codemirror_mode": {
    "name": "ipython",
    "version": 3
   },
   "file_extension": ".py",
   "mimetype": "text/x-python",
   "name": "python",
   "nbconvert_exporter": "python",
   "pygments_lexer": "ipython3",
   "version": "3.9.13"
  }
 },
 "nbformat": 4,
 "nbformat_minor": 5
}
